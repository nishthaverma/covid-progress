{
 "cells": [
  {
   "cell_type": "code",
   "execution_count": 48,
   "id": "29cde199-4dea-4b45-8fc1-5c9112cd5d48",
   "metadata": {},
   "outputs": [
    {
     "data": {
      "text/plain": [
       "9"
      ]
     },
     "execution_count": 48,
     "metadata": {},
     "output_type": "execute_result"
    }
   ],
   "source": [
    "import pandas as pd\n",
    "import pycountry\n",
    "import pycountry_convert as pc\n",
    "import matplotlib.pyplot as plt\n",
    "import seaborn as sns\n",
    "data = pd.read_csv('country_vaccinations.csv')\n",
    "data.isna().any().sum()\n",
    "# checking for null values"
   ]
  },
  {
   "cell_type": "code",
   "execution_count": 49,
   "id": "4e9eb5b1-85c2-42ed-98be-3a41c4d894a0",
   "metadata": {},
   "outputs": [],
   "source": [
    "country_wise = data.groupby(\"country\")"
   ]
  },
  {
   "cell_type": "code",
   "execution_count": 50,
   "id": "add797d5-2e9e-4f20-9227-a1ae48f323e3",
   "metadata": {},
   "outputs": [
    {
     "data": {
      "text/plain": [
       "223"
      ]
     },
     "execution_count": 50,
     "metadata": {},
     "output_type": "execute_result"
    }
   ],
   "source": [
    "data[\"country\"].nunique()"
   ]
  },
  {
   "cell_type": "code",
   "execution_count": 51,
   "id": "d200989e-b600-4341-a27c-01078d8790dd",
   "metadata": {},
   "outputs": [],
   "source": [
    "data['date'] = pd.to_datetime(data['date'])"
   ]
  },
  {
   "cell_type": "code",
   "execution_count": 52,
   "id": "7f6850e0-5fae-4b02-9951-d946d6e5780e",
   "metadata": {},
   "outputs": [
    {
     "name": "stdout",
     "output_type": "stream",
     "text": [
      "country                                          Gibraltar\n",
      "date                                   2022-03-24 00:00:00\n",
      "people_fully_vaccinated_per_hundred                 122.37\n",
      "Name: 30235, dtype: object\n",
      "country                                            Burundi\n",
      "date                                   2022-03-12 00:00:00\n",
      "people_fully_vaccinated_per_hundred                   0.08\n",
      "Name: 12638, dtype: object\n"
     ]
    }
   ],
   "source": [
    "# finding countries with maximum and minimum vaccinated percentages\n",
    "data.dropna(subset = 'people_fully_vaccinated_per_hundred',inplace = True)\n",
    "fully_vaxxed = data[['country','date','people_fully_vaccinated_per_hundred']]\n",
    "indices = fully_vaxxed.groupby('country')['people_fully_vaccinated_per_hundred'].idxmax()\n",
    "new_indices_max = fully_vaxxed.loc[indices]\n",
    "max_idx = new_indices_max['people_fully_vaccinated_per_hundred'].idxmax()\n",
    "max_country = new_indices_max.loc[max_idx]\n",
    "print(max_country)\n",
    "new_indices_min = fully_vaxxed.loc[indices]\n",
    "min_idx = new_indices_min['people_fully_vaccinated_per_hundred'].idxmin()\n",
    "min_country = new_indices_min.loc[min_idx]\n",
    "print(min_country)"
   ]
  },
  {
   "cell_type": "code",
   "execution_count": 53,
   "id": "c729be99-fa3f-4338-9121-c53eb7d1a0e9",
   "metadata": {},
   "outputs": [
    {
     "name": "stdout",
     "output_type": "stream",
     "text": [
      "                    country       date  people_fully_vaccinated_per_hundred\n",
      "30235             Gibraltar 2022-03-24                               122.37\n",
      "62293              Pitcairn 2021-09-07                               100.00\n",
      "81914  United Arab Emirates 2022-03-27                                96.12\n",
      "63189              Portugal 2022-03-10                                92.60\n",
      "11745                Brunei 2022-03-18                                91.71\n",
      "70228             Singapore 2022-03-28                                91.04\n",
      "49111                 Malta 2022-03-28                                90.35\n",
      "15755                 Chile 2022-03-22                                90.29\n",
      "63647                 Qatar 2022-03-24                                88.50\n",
      "14701        Cayman Islands 2022-03-25                                87.80\n",
      "57358                  Niue 2022-03-13                                87.79\n",
      "19243                  Cuba 2022-03-27                                87.57\n",
      "72972           South Korea 2022-03-28                                86.70\n",
      "16220                 China 2022-03-24                                85.91\n",
      "73770                 Spain 2022-03-23                                85.82\n",
      "26081        Faeroe Islands 2022-02-18                                83.37\n",
      "17616          Cook Islands 2022-03-28                                82.93\n",
      "21301               Denmark 2022-03-28                                82.60\n",
      "13057              Cambodia 2022-03-28                                82.55\n",
      "4419              Australia 2022-03-29                                82.21\n",
      "13872                Canada 2022-03-28                                81.83\n",
      "83226               Uruguay 2022-03-29                                81.56\n",
      "32252              Guernsey 2022-01-11                                81.01\n",
      "30235               Gibraltar\n",
      "62293                Pitcairn\n",
      "81914    United Arab Emirates\n",
      "63189                Portugal\n",
      "11745                  Brunei\n",
      "70228               Singapore\n",
      "49111                   Malta\n",
      "15755                   Chile\n",
      "63647                   Qatar\n",
      "14701          Cayman Islands\n",
      "57358                    Niue\n",
      "19243                    Cuba\n",
      "72972             South Korea\n",
      "16220                   China\n",
      "73770                   Spain\n",
      "26081          Faeroe Islands\n",
      "17616            Cook Islands\n",
      "21301                 Denmark\n",
      "13057                Cambodia\n",
      "4419                Australia\n",
      "13872                  Canada\n",
      "83226                 Uruguay\n",
      "32252                Guernsey\n",
      "Name: country, dtype: object\n"
     ]
    }
   ],
   "source": [
    "# getting top 10% and bottom 10% countries\n",
    "new_indices = pd.DataFrame(new_indices_max)\n",
    "sorted = new_indices.sort_values(by='people_fully_vaccinated_per_hundred', ascending = False).head(23)\n",
    "print(sorted)\n",
    "print(sorted['country'])"
   ]
  },
  {
   "cell_type": "code",
   "execution_count": 54,
   "id": "bcc4e607-2422-48d9-b8bf-2de901813b71",
   "metadata": {},
   "outputs": [
    {
     "name": "stdout",
     "output_type": "stream",
     "text": [
      "          country       date  people_fully_vaccinated_per_hundred\n",
      "393   Afghanistan 2022-03-22                                11.10\n",
      "832       Albania 2022-03-24                                42.30\n",
      "1237      Algeria 2022-03-09                                13.70\n",
      "1650      Andorra 2022-03-13                                68.99\n",
      "2040       Angola 2022-03-25                                17.66\n"
     ]
    }
   ],
   "source": [
    "print((new_indices).head())"
   ]
  },
  {
   "cell_type": "code",
   "execution_count": 55,
   "id": "9642f4d7-4551-4b40-b3e3-2caf69c5259a",
   "metadata": {},
   "outputs": [],
   "source": [
    "# imtegrating continent data\n",
    "def get_cont(country_name):\n",
    "    try:\n",
    "        country_alpha2 = pycountry.countries.lookup(country_name).alpha_2\n",
    "        continent_code = pc.country_alpha2_to_continent_code(country_alpha2)\n",
    "        continent_name = pc.convert_continent_code_to_continent_name(continent_code)\n",
    "        return continent_name\n",
    "    except (LookupError, KeyError):\n",
    "        return None"
   ]
  },
  {
   "cell_type": "code",
   "execution_count": 56,
   "id": "cdb3225c-a047-4908-a8b3-748911181bcd",
   "metadata": {},
   "outputs": [],
   "source": [
    "# adding continent list as a column\n",
    "cont_list = []\n",
    "for country in new_indices['country']:\n",
    "    continent = get_cont(country)\n",
    "    cont_list.append(continent)\n"
   ]
  },
  {
   "cell_type": "code",
   "execution_count": 57,
   "id": "aadba6a7-2996-4423-b1b7-c6b22461ae05",
   "metadata": {},
   "outputs": [
    {
     "name": "stdout",
     "output_type": "stream",
     "text": [
      "          country       date  people_fully_vaccinated_per_hundred continent\n",
      "393   Afghanistan 2022-03-22                                11.10      Asia\n",
      "832       Albania 2022-03-24                                42.30    Europe\n",
      "1237      Algeria 2022-03-09                                13.70    Africa\n",
      "1650      Andorra 2022-03-13                                68.99    Europe\n",
      "2040       Angola 2022-03-25                                17.66    Africa\n"
     ]
    }
   ],
   "source": [
    "new_indices['continent'] = cont_list\n",
    "print(new_indices.head())"
   ]
  },
  {
   "cell_type": "code",
   "execution_count": 58,
   "id": "89e8bfe7-8c6c-43f6-bb78-95013acba596",
   "metadata": {},
   "outputs": [
    {
     "name": "stdout",
     "output_type": "stream",
     "text": [
      "       continent  people_fully_vaccinated_per_hundred\n",
      "0         Africa                            21.062400\n",
      "1           Asia                            58.768261\n",
      "2         Europe                            66.505652\n",
      "3  North America                            54.918710\n",
      "4        Oceania                            58.877647\n",
      "5  South America                            64.871667\n"
     ]
    }
   ],
   "source": [
    "# getting mean vaccination rates for all continents\n",
    "cont_vacc =new_indices.groupby('continent')['people_fully_vaccinated_per_hundred'].mean().reset_index()\n",
    "print(cont_vacc)"
   ]
  },
  {
   "cell_type": "code",
   "execution_count": 61,
   "id": "537be3e1-5181-4bce-be89-040556fe0331",
   "metadata": {},
   "outputs": [
    {
     "data": {
      "image/png": "[encoded data removed]",
      "text/plain": [
       "<Figure size 1000x600 with 1 Axes>"
      ]
     },
     "metadata": {},
     "output_type": "display_data"
    }
   ],
   "source": [
    "# graph creation\n",
    "sns.set_style(\"whitegrid\")\n",
    "plt.figure(figsize=(10,6))\n",
    "sns.barplot(data=cont_vacc,x='continent',y='people_fully_vaccinated_per_hundred',color = 'skyblue')\n",
    "plt.title('Average Vaccination Rate by Continent', fontsize = 16, fontweight = 'bold')\n",
    "plt.xlabel('Continent', fontsize = 14)\n",
    "plt.ylabel('Average Vaccination Rate', fontsize = 14)\n",
    "plt.show()"
   ]
  },
  {
   "cell_type": "code",
   "execution_count": null,
   "id": "57668987",
   "metadata": {},
   "outputs": [],
   "source": []
  }
 ],
 "metadata": {
  "kernelspec": {
   "display_name": "Python 3 (ipykernel)",
   "language": "python",
   "name": "python3"
  },
  "language_info": {
   "codemirror_mode": {
    "name": "ipython",
    "version": 3
   },
   "file_extension": ".py",
   "mimetype": "text/x-python",
   "name": "python",
   "nbconvert_exporter": "python",
   "pygments_lexer": "ipython3",
   "version": "3.9.13"
  }
 },
 "nbformat": 4,
 "nbformat_minor": 5
}
