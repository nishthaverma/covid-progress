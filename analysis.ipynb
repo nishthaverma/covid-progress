{
 "cells": [
  {
   "cell_type": "code",
   "execution_count": 204,
   "id": "29cde199-4dea-4b45-8fc1-5c9112cd5d48",
   "metadata": {},
   "outputs": [
    {
     "data": {
      "text/plain": [
       "9"
      ]
     },
     "execution_count": 204,
     "metadata": {},
     "output_type": "execute_result"
    }
   ],
   "source": [
    "import pandas as pd\n",
    "import pycountry\n",
    "import pycountry_convert as pc\n",
    "import matplotlib.pyplot as plt\n",
    "import seaborn as sns\n",
    "from sklearn.model_selection import train_test_split\n",
    "from sklearn.ensemble import RandomForestRegressor\n",
    "from sklearn.metrics import mean_squared_error, r2_score\n",
    "from sklearn.linear_model import LinearRegression\n",
    "\n",
    "# checking for null values\n",
    "data = pd.read_csv('country_vaccinations.csv')\n",
    "data.isna().any().sum()"
   ]
  },
  {
   "cell_type": "code",
   "execution_count": 205,
   "id": "4e9eb5b1-85c2-42ed-98be-3a41c4d894a0",
   "metadata": {},
   "outputs": [],
   "source": [
    "country_wise = data.groupby(\"country\")"
   ]
  },
  {
   "cell_type": "code",
   "execution_count": 206,
   "id": "add797d5-2e9e-4f20-9227-a1ae48f323e3",
   "metadata": {},
   "outputs": [
    {
     "data": {
      "text/plain": [
       "223"
      ]
     },
     "execution_count": 206,
     "metadata": {},
     "output_type": "execute_result"
    }
   ],
   "source": [
    "data[\"country\"].nunique()"
   ]
  },
  {
   "cell_type": "code",
   "execution_count": 207,
   "id": "d200989e-b600-4341-a27c-01078d8790dd",
   "metadata": {},
   "outputs": [],
   "source": [
    "data['date'] = pd.to_datetime(data['date'])"
   ]
  },
  {
   "cell_type": "code",
   "execution_count": 208,
   "id": "7f6850e0-5fae-4b02-9951-d946d6e5780e",
   "metadata": {},
   "outputs": [
    {
     "name": "stdout",
     "output_type": "stream",
     "text": [
      "country                                          Gibraltar\n",
      "date                                   2022-03-24 00:00:00\n",
      "people_fully_vaccinated_per_hundred                 122.37\n",
      "Name: 30235, dtype: object\n",
      "country                                            Burundi\n",
      "date                                   2022-03-12 00:00:00\n",
      "people_fully_vaccinated_per_hundred                   0.08\n",
      "Name: 12638, dtype: object\n"
     ]
    }
   ],
   "source": [
    "# finding countries with maximum and minimum vaccinated percentages\n",
    "data.dropna(subset = 'people_fully_vaccinated_per_hundred',inplace = True)\n",
    "fully_vaxxed = data[['country','date','people_fully_vaccinated_per_hundred']]\n",
    "indices = fully_vaxxed.groupby('country')['people_fully_vaccinated_per_hundred'].idxmax()\n",
    "new_indices_max = fully_vaxxed.loc[indices]\n",
    "max_idx = new_indices_max['people_fully_vaccinated_per_hundred'].idxmax()\n",
    "max_country = new_indices_max.loc[max_idx]\n",
    "print(max_country)\n",
    "new_indices_min = fully_vaxxed.loc[indices]\n",
    "min_idx = new_indices_min['people_fully_vaccinated_per_hundred'].idxmin()\n",
    "min_country = new_indices_min.loc[min_idx]\n",
    "print(min_country)"
   ]
  },
  {
   "cell_type": "code",
   "execution_count": 209,
   "id": "c729be99-fa3f-4338-9121-c53eb7d1a0e9",
   "metadata": {},
   "outputs": [
    {
     "name": "stdout",
     "output_type": "stream",
     "text": [
      "                    country       date  people_fully_vaccinated_per_hundred\n",
      "30235             Gibraltar 2022-03-24                               122.37\n",
      "62293              Pitcairn 2021-09-07                               100.00\n",
      "81914  United Arab Emirates 2022-03-27                                96.12\n",
      "63189              Portugal 2022-03-10                                92.60\n",
      "11745                Brunei 2022-03-18                                91.71\n",
      "70228             Singapore 2022-03-28                                91.04\n",
      "49111                 Malta 2022-03-28                                90.35\n",
      "15755                 Chile 2022-03-22                                90.29\n",
      "63647                 Qatar 2022-03-24                                88.50\n",
      "14701        Cayman Islands 2022-03-25                                87.80\n",
      "57358                  Niue 2022-03-13                                87.79\n",
      "19243                  Cuba 2022-03-27                                87.57\n",
      "72972           South Korea 2022-03-28                                86.70\n",
      "16220                 China 2022-03-24                                85.91\n",
      "73770                 Spain 2022-03-23                                85.82\n",
      "26081        Faeroe Islands 2022-02-18                                83.37\n",
      "17616          Cook Islands 2022-03-28                                82.93\n",
      "21301               Denmark 2022-03-28                                82.60\n",
      "13057              Cambodia 2022-03-28                                82.55\n",
      "4419              Australia 2022-03-29                                82.21\n",
      "13872                Canada 2022-03-28                                81.83\n",
      "83226               Uruguay 2022-03-29                                81.56\n",
      "32252              Guernsey 2022-01-11                                81.01\n",
      "30235               Gibraltar\n",
      "62293                Pitcairn\n",
      "81914    United Arab Emirates\n",
      "63189                Portugal\n",
      "11745                  Brunei\n",
      "70228               Singapore\n",
      "49111                   Malta\n",
      "15755                   Chile\n",
      "63647                   Qatar\n",
      "14701          Cayman Islands\n",
      "57358                    Niue\n",
      "19243                    Cuba\n",
      "72972             South Korea\n",
      "16220                   China\n",
      "73770                   Spain\n",
      "26081          Faeroe Islands\n",
      "17616            Cook Islands\n",
      "21301                 Denmark\n",
      "13057                Cambodia\n",
      "4419                Australia\n",
      "13872                  Canada\n",
      "83226                 Uruguay\n",
      "32252                Guernsey\n",
      "Name: country, dtype: object\n"
     ]
    }
   ],
   "source": [
    "# getting top 10% and bottom 10% countries\n",
    "new_indices = pd.DataFrame(new_indices_max)\n",
    "sorted = new_indices.sort_values(by='people_fully_vaccinated_per_hundred', ascending = False).head(23)\n",
    "print(sorted)\n",
    "print(sorted['country'])"
   ]
  },
  {
   "cell_type": "code",
   "execution_count": 210,
   "id": "bcc4e607-2422-48d9-b8bf-2de901813b71",
   "metadata": {},
   "outputs": [
    {
     "name": "stdout",
     "output_type": "stream",
     "text": [
      "          country       date  people_fully_vaccinated_per_hundred\n",
      "393   Afghanistan 2022-03-22                                11.10\n",
      "832       Albania 2022-03-24                                42.30\n",
      "1237      Algeria 2022-03-09                                13.70\n",
      "1650      Andorra 2022-03-13                                68.99\n",
      "2040       Angola 2022-03-25                                17.66\n"
     ]
    }
   ],
   "source": [
    "print((new_indices).head())"
   ]
  },
  {
   "cell_type": "code",
   "execution_count": 211,
   "id": "9642f4d7-4551-4b40-b3e3-2caf69c5259a",
   "metadata": {},
   "outputs": [],
   "source": [
    "# imtegrating continent data\n",
    "def get_cont(country_name):\n",
    "    try:\n",
    "        country_alpha2 = pycountry.countries.lookup(country_name).alpha_2\n",
    "        continent_code = pc.country_alpha2_to_continent_code(country_alpha2)\n",
    "        continent_name = pc.convert_continent_code_to_continent_name(continent_code)\n",
    "        return continent_name\n",
    "    except (LookupError, KeyError):\n",
    "        return None"
   ]
  },
  {
   "cell_type": "code",
   "execution_count": 212,
   "id": "cdb3225c-a047-4908-a8b3-748911181bcd",
   "metadata": {},
   "outputs": [],
   "source": [
    "# adding continent list as a column\n",
    "cont_list = []\n",
    "for country in new_indices['country']:\n",
    "    continent = get_cont(country)\n",
    "    cont_list.append(continent)\n"
   ]
  },
  {
   "cell_type": "code",
   "execution_count": 213,
   "id": "aadba6a7-2996-4423-b1b7-c6b22461ae05",
   "metadata": {},
   "outputs": [
    {
     "name": "stdout",
     "output_type": "stream",
     "text": [
      "          country       date  people_fully_vaccinated_per_hundred continent\n",
      "393   Afghanistan 2022-03-22                                11.10      Asia\n",
      "832       Albania 2022-03-24                                42.30    Europe\n",
      "1237      Algeria 2022-03-09                                13.70    Africa\n",
      "1650      Andorra 2022-03-13                                68.99    Europe\n",
      "2040       Angola 2022-03-25                                17.66    Africa\n"
     ]
    }
   ],
   "source": [
    "new_indices['continent'] = cont_list\n",
    "print(new_indices.head())"
   ]
  },
  {
   "cell_type": "code",
   "execution_count": 214,
   "id": "89e8bfe7-8c6c-43f6-bb78-95013acba596",
   "metadata": {},
   "outputs": [
    {
     "name": "stdout",
     "output_type": "stream",
     "text": [
      "       continent  people_fully_vaccinated_per_hundred\n",
      "0         Africa                            21.062400\n",
      "1           Asia                            58.768261\n",
      "2         Europe                            66.505652\n",
      "3  North America                            54.918710\n",
      "4        Oceania                            58.877647\n",
      "5  South America                            64.871667\n"
     ]
    }
   ],
   "source": [
    "# getting mean vaccination rates for all continents\n",
    "cont_vacc =new_indices.groupby('continent')['people_fully_vaccinated_per_hundred'].mean().reset_index()\n",
    "print(cont_vacc)"
   ]
  },
  {
   "cell_type": "code",
   "execution_count": 215,
   "id": "537be3e1-5181-4bce-be89-040556fe0331",
   "metadata": {},
   "outputs": [
    {
     "data": {
      "image/png": "[encoded data removed]",
      "text/plain": [
       "<Figure size 1000x600 with 1 Axes>"
      ]
     },
     "metadata": {},
     "output_type": "display_data"
    }
   ],
   "source": [
    "# graph creation\n",
    "sns.set_style(\"whitegrid\")\n",
    "plt.figure(figsize=(10,6))\n",
    "sns.barplot(data=cont_vacc,x='continent',y='people_fully_vaccinated_per_hundred',color = 'skyblue')\n",
    "plt.title('Average Vaccination Rate by Continent', fontsize = 16, fontweight = 'bold')\n",
    "plt.xlabel('Continent', fontsize = 14)\n",
    "plt.ylabel('Average Vaccination Rate', fontsize = 14)\n",
    "plt.show()"
   ]
  },
  {
   "cell_type": "code",
   "execution_count": 216,
   "id": "57668987",
   "metadata": {},
   "outputs": [
    {
     "name": "stdout",
     "output_type": "stream",
     "text": [
      "                  Country Name         2022\n",
      "0                        Aruba     106445.0\n",
      "1  Africa Eastern and Southern  720859132.0\n",
      "2                  Afghanistan   41128771.0\n",
      "3   Africa Western and Central  490330870.0\n",
      "4                       Angola   35588987.0\n"
     ]
    }
   ],
   "source": [
    "# integrating population data\n",
    "pop = pd.read_csv('populations.csv', skiprows = 4)\n",
    "print(pop.head())\n",
    "poplist = []\n",
    "count1 = 0\n",
    "count2 = 0\n",
    "for country in new_indices['country']:\n",
    "    if country in pop['Country Name'].values:\n",
    "        index = pop[pop['Country Name'] == country].index[0]\n",
    "        poplist.append(pop.at[index, '2022'])\n",
    "    else:\n",
    "        poplist.append(float('nan'))"
   ]
  },
  {
   "cell_type": "code",
   "execution_count": 217,
   "id": "1adad55e-1dd3-4583-9238-71d1ea17181f",
   "metadata": {},
   "outputs": [
    {
     "data": {
      "text/plain": [
       "0"
      ]
     },
     "execution_count": 217,
     "metadata": {},
     "output_type": "execute_result"
    }
   ],
   "source": [
    "# setting column as poplist, cleaning data again\n",
    "new_indices['population'] = poplist\n",
    "cleaned_pop = new_indices[new_indices['population'].notna()]\n",
    "cleaned_pop['population'].isna().any().sum()"
   ]
  },
  {
   "cell_type": "code",
   "execution_count": 218,
   "id": "5dca4e86-a4a2-4fc9-a433-8863444b317b",
   "metadata": {},
   "outputs": [
    {
     "data": {
      "text/html": [
       "<div>\n",
       "<style scoped>\n",
       "    .dataframe tbody tr th:only-of-type {\n",
       "        vertical-align: middle;\n",
       "    }\n",
       "\n",
       "    .dataframe tbody tr th {\n",
       "        vertical-align: top;\n",
       "    }\n",
       "\n",
       "    .dataframe thead th {\n",
       "        text-align: right;\n",
       "    }\n",
       "</style>\n",
       "<table border=\"1\" class=\"dataframe\">\n",
       "  <thead>\n",
       "    <tr style=\"text-align: right;\">\n",
       "      <th></th>\n",
       "      <th>country</th>\n",
       "      <th>date</th>\n",
       "      <th>people_fully_vaccinated_per_hundred</th>\n",
       "      <th>continent</th>\n",
       "      <th>population</th>\n",
       "      <th>Vacc Range</th>\n",
       "    </tr>\n",
       "  </thead>\n",
       "  <tbody>\n",
       "    <tr>\n",
       "      <th>393</th>\n",
       "      <td>Afghanistan</td>\n",
       "      <td>2022-03-22</td>\n",
       "      <td>11.10</td>\n",
       "      <td>Asia</td>\n",
       "      <td>41128771.0</td>\n",
       "      <td>0-20%</td>\n",
       "    </tr>\n",
       "    <tr>\n",
       "      <th>832</th>\n",
       "      <td>Albania</td>\n",
       "      <td>2022-03-24</td>\n",
       "      <td>42.30</td>\n",
       "      <td>Europe</td>\n",
       "      <td>2777689.0</td>\n",
       "      <td>40-60%</td>\n",
       "    </tr>\n",
       "    <tr>\n",
       "      <th>1237</th>\n",
       "      <td>Algeria</td>\n",
       "      <td>2022-03-09</td>\n",
       "      <td>13.70</td>\n",
       "      <td>Africa</td>\n",
       "      <td>44903225.0</td>\n",
       "      <td>0-20%</td>\n",
       "    </tr>\n",
       "    <tr>\n",
       "      <th>1650</th>\n",
       "      <td>Andorra</td>\n",
       "      <td>2022-03-13</td>\n",
       "      <td>68.99</td>\n",
       "      <td>Europe</td>\n",
       "      <td>79824.0</td>\n",
       "      <td>60-80%</td>\n",
       "    </tr>\n",
       "    <tr>\n",
       "      <th>2040</th>\n",
       "      <td>Angola</td>\n",
       "      <td>2022-03-25</td>\n",
       "      <td>17.66</td>\n",
       "      <td>Africa</td>\n",
       "      <td>35588987.0</td>\n",
       "      <td>0-20%</td>\n",
       "    </tr>\n",
       "  </tbody>\n",
       "</table>\n",
       "</div>"
      ],
      "text/plain": [
       "          country       date  people_fully_vaccinated_per_hundred continent  \\\n",
       "393   Afghanistan 2022-03-22                                11.10      Asia   \n",
       "832       Albania 2022-03-24                                42.30    Europe   \n",
       "1237      Algeria 2022-03-09                                13.70    Africa   \n",
       "1650      Andorra 2022-03-13                                68.99    Europe   \n",
       "2040       Angola 2022-03-25                                17.66    Africa   \n",
       "\n",
       "      population Vacc Range  \n",
       "393   41128771.0      0-20%  \n",
       "832    2777689.0     40-60%  \n",
       "1237  44903225.0      0-20%  \n",
       "1650     79824.0     60-80%  \n",
       "2040  35588987.0      0-20%  "
      ]
     },
     "execution_count": 218,
     "metadata": {},
     "output_type": "execute_result"
    }
   ],
   "source": [
    "# scatterplot showing trends between population distribution and vaccination rate\n",
    "bins = [0, 20, 40, 60, 80, 100]\n",
    "bin_labels = ['0-20%', '20-40%', '40-60%', '60-80%', '80-100%']\n",
    "cleaned_pop = pd.DataFrame(cleaned_pop)\n",
    "cleaned_pop['Vacc Range'] = pd.cut(cleaned_pop['people_fully_vaccinated_per_hundred'], bins=bins, labels=bin_labels)\n",
    "cleaned_pop.head()"
   ]
  },
  {
   "cell_type": "code",
   "execution_count": 219,
   "id": "2515aea6-2fbf-4f94-b4e2-e32171705438",
   "metadata": {},
   "outputs": [
    {
     "name": "stdout",
     "output_type": "stream",
     "text": [
      "  Vacc Range  Number of Countries\n",
      "0      0-20%                   39\n",
      "1     20-40%                   19\n",
      "2     40-60%                   39\n",
      "3     60-80%                   63\n",
      "4    80-100%                   18\n"
     ]
    }
   ],
   "source": [
    "grouped = cleaned_pop.groupby('Vacc Range')['country'].count().reset_index()\n",
    "grouped.columns = ['Vacc Range', 'Number of Countries']\n",
    "print(grouped)"
   ]
  },
  {
   "cell_type": "code",
   "execution_count": 220,
   "id": "6ea55187-8504-479b-b929-0a7d5e56cc2b",
   "metadata": {},
   "outputs": [
    {
     "data": {
      "image/png": "[encoded data removed]",
      "text/plain": [
       "<Figure size 800x600 with 1 Axes>"
      ]
     },
     "metadata": {},
     "output_type": "display_data"
    }
   ],
   "source": [
    "cleaned_pop['Vacc Range'] = cleaned_pop['Vacc Range'].astype(str)\n",
    "plt.figure(figsize=(8, 6))\n",
    "plt.scatter(cleaned_pop['people_fully_vaccinated_per_hundred'], cleaned_pop['population'], s=50, c='blue', alpha=0.7)\n",
    "plt.title('Population Distribution vs Vaccination Rate')\n",
    "plt.xlabel('Population')\n",
    "plt.ylabel('Vaccination Rate (%)')\n",
    "plt.xticks(rotation=45)\n",
    "plt.grid(True)\n",
    "plt.tight_layout()\n",
    "plt.show()"
   ]
  },
  {
   "cell_type": "code",
   "execution_count": 221,
   "id": "3b9435aa-d718-48e8-8a3e-c7f0fe7ed985",
   "metadata": {},
   "outputs": [
    {
     "name": "stdout",
     "output_type": "stream",
     "text": [
      "        country iso_code       date  total_vaccinations  people_vaccinated  \\\n",
      "78  Afghanistan      AFG 2021-05-11            504502.0           448878.0   \n",
      "87  Afghanistan      AFG 2021-05-20            547901.0           470341.0   \n",
      "91  Afghanistan      AFG 2021-05-24            573277.0           476367.0   \n",
      "93  Afghanistan      AFG 2021-05-26            590454.0           479372.0   \n",
      "94  Afghanistan      AFG 2021-05-27            593313.0           479574.0   \n",
      "\n",
      "    people_fully_vaccinated  daily_vaccinations_raw  daily_vaccinations  \\\n",
      "78                  55624.0                     NaN             13921.0   \n",
      "87                  77560.0                     NaN              4822.0   \n",
      "91                  96910.0                     NaN              5692.0   \n",
      "93                 111082.0                     NaN              6768.0   \n",
      "94                 113739.0                  2859.0              6487.0   \n",
      "\n",
      "    total_vaccinations_per_hundred  people_vaccinated_per_hundred  \\\n",
      "78                            1.27                           1.13   \n",
      "87                            1.38                           1.18   \n",
      "91                            1.44                           1.20   \n",
      "93                            1.48                           1.20   \n",
      "94                            1.49                           1.20   \n",
      "\n",
      "    people_fully_vaccinated_per_hundred  daily_vaccinations_per_million  \\\n",
      "78                                 0.14                           349.0   \n",
      "87                                 0.19                           121.0   \n",
      "91                                 0.24                           143.0   \n",
      "93                                 0.28                           170.0   \n",
      "94                                 0.29                           163.0   \n",
      "\n",
      "                                             vaccines  \\\n",
      "78  Johnson&Johnson, Oxford/AstraZeneca, Pfizer/Bi...   \n",
      "87  Johnson&Johnson, Oxford/AstraZeneca, Pfizer/Bi...   \n",
      "91  Johnson&Johnson, Oxford/AstraZeneca, Pfizer/Bi...   \n",
      "93  Johnson&Johnson, Oxford/AstraZeneca, Pfizer/Bi...   \n",
      "94  Johnson&Johnson, Oxford/AstraZeneca, Pfizer/Bi...   \n",
      "\n",
      "                  source_name            source_website  population  \n",
      "78  World Health Organization  https://covid19.who.int/  41128771.0  \n",
      "87  World Health Organization  https://covid19.who.int/  41128771.0  \n",
      "91  World Health Organization  https://covid19.who.int/  41128771.0  \n",
      "93  World Health Organization  https://covid19.who.int/  41128771.0  \n",
      "94  World Health Organization  https://covid19.who.int/  41128771.0  \n"
     ]
    }
   ],
   "source": [
    "# Adding population to data\n",
    "poplist2 = []\n",
    "count1 = 0\n",
    "count2 = 0\n",
    "for country in data['country']:\n",
    "    if country in pop['Country Name'].values:\n",
    "        index = pop[pop['Country Name'] == country].index[0]\n",
    "        poplist2.append(pop.at[index, '2022'])\n",
    "    else:\n",
    "        poplist2.append(float('nan'))\n",
    "data['population'] = poplist2\n",
    "print(data.head())"
   ]
  },
  {
   "cell_type": "code",
   "execution_count": 222,
   "id": "be3aa4a5-b40c-469a-ac16-dbeac9757fbf",
   "metadata": {},
   "outputs": [
    {
     "data": {
      "text/html": [
       "<div>\n",
       "<style scoped>\n",
       "    .dataframe tbody tr th:only-of-type {\n",
       "        vertical-align: middle;\n",
       "    }\n",
       "\n",
       "    .dataframe tbody tr th {\n",
       "        vertical-align: top;\n",
       "    }\n",
       "\n",
       "    .dataframe thead th {\n",
       "        text-align: right;\n",
       "    }\n",
       "</style>\n",
       "<table border=\"1\" class=\"dataframe\">\n",
       "  <thead>\n",
       "    <tr style=\"text-align: right;\">\n",
       "      <th></th>\n",
       "      <th>country</th>\n",
       "      <th>iso_code</th>\n",
       "      <th>date</th>\n",
       "      <th>total_vaccinations</th>\n",
       "      <th>people_vaccinated</th>\n",
       "      <th>people_fully_vaccinated</th>\n",
       "      <th>daily_vaccinations_raw</th>\n",
       "      <th>daily_vaccinations</th>\n",
       "      <th>total_vaccinations_per_hundred</th>\n",
       "      <th>people_vaccinated_per_hundred</th>\n",
       "      <th>people_fully_vaccinated_per_hundred</th>\n",
       "      <th>daily_vaccinations_per_million</th>\n",
       "      <th>vaccines</th>\n",
       "      <th>source_name</th>\n",
       "      <th>source_website</th>\n",
       "      <th>population</th>\n",
       "      <th>Start_Date</th>\n",
       "      <th>Days Since Start</th>\n",
       "    </tr>\n",
       "  </thead>\n",
       "  <tbody>\n",
       "    <tr>\n",
       "      <th>78</th>\n",
       "      <td>Afghanistan</td>\n",
       "      <td>AFG</td>\n",
       "      <td>2021-05-11</td>\n",
       "      <td>504502.0</td>\n",
       "      <td>448878.0</td>\n",
       "      <td>55624.0</td>\n",
       "      <td>NaN</td>\n",
       "      <td>13921.0</td>\n",
       "      <td>1.27</td>\n",
       "      <td>1.13</td>\n",
       "      <td>0.14</td>\n",
       "      <td>349.0</td>\n",
       "      <td>Johnson&amp;Johnson, Oxford/AstraZeneca, Pfizer/Bi...</td>\n",
       "      <td>World Health Organization</td>\n",
       "      <td>https://covid19.who.int/</td>\n",
       "      <td>41128771.0</td>\n",
       "      <td>2021-05-11</td>\n",
       "      <td>0</td>\n",
       "    </tr>\n",
       "    <tr>\n",
       "      <th>87</th>\n",
       "      <td>Afghanistan</td>\n",
       "      <td>AFG</td>\n",
       "      <td>2021-05-20</td>\n",
       "      <td>547901.0</td>\n",
       "      <td>470341.0</td>\n",
       "      <td>77560.0</td>\n",
       "      <td>NaN</td>\n",
       "      <td>4822.0</td>\n",
       "      <td>1.38</td>\n",
       "      <td>1.18</td>\n",
       "      <td>0.19</td>\n",
       "      <td>121.0</td>\n",
       "      <td>Johnson&amp;Johnson, Oxford/AstraZeneca, Pfizer/Bi...</td>\n",
       "      <td>World Health Organization</td>\n",
       "      <td>https://covid19.who.int/</td>\n",
       "      <td>41128771.0</td>\n",
       "      <td>2021-05-11</td>\n",
       "      <td>9</td>\n",
       "    </tr>\n",
       "    <tr>\n",
       "      <th>91</th>\n",
       "      <td>Afghanistan</td>\n",
       "      <td>AFG</td>\n",
       "      <td>2021-05-24</td>\n",
       "      <td>573277.0</td>\n",
       "      <td>476367.0</td>\n",
       "      <td>96910.0</td>\n",
       "      <td>NaN</td>\n",
       "      <td>5692.0</td>\n",
       "      <td>1.44</td>\n",
       "      <td>1.20</td>\n",
       "      <td>0.24</td>\n",
       "      <td>143.0</td>\n",
       "      <td>Johnson&amp;Johnson, Oxford/AstraZeneca, Pfizer/Bi...</td>\n",
       "      <td>World Health Organization</td>\n",
       "      <td>https://covid19.who.int/</td>\n",
       "      <td>41128771.0</td>\n",
       "      <td>2021-05-11</td>\n",
       "      <td>13</td>\n",
       "    </tr>\n",
       "    <tr>\n",
       "      <th>93</th>\n",
       "      <td>Afghanistan</td>\n",
       "      <td>AFG</td>\n",
       "      <td>2021-05-26</td>\n",
       "      <td>590454.0</td>\n",
       "      <td>479372.0</td>\n",
       "      <td>111082.0</td>\n",
       "      <td>NaN</td>\n",
       "      <td>6768.0</td>\n",
       "      <td>1.48</td>\n",
       "      <td>1.20</td>\n",
       "      <td>0.28</td>\n",
       "      <td>170.0</td>\n",
       "      <td>Johnson&amp;Johnson, Oxford/AstraZeneca, Pfizer/Bi...</td>\n",
       "      <td>World Health Organization</td>\n",
       "      <td>https://covid19.who.int/</td>\n",
       "      <td>41128771.0</td>\n",
       "      <td>2021-05-11</td>\n",
       "      <td>15</td>\n",
       "    </tr>\n",
       "    <tr>\n",
       "      <th>94</th>\n",
       "      <td>Afghanistan</td>\n",
       "      <td>AFG</td>\n",
       "      <td>2021-05-27</td>\n",
       "      <td>593313.0</td>\n",
       "      <td>479574.0</td>\n",
       "      <td>113739.0</td>\n",
       "      <td>2859.0</td>\n",
       "      <td>6487.0</td>\n",
       "      <td>1.49</td>\n",
       "      <td>1.20</td>\n",
       "      <td>0.29</td>\n",
       "      <td>163.0</td>\n",
       "      <td>Johnson&amp;Johnson, Oxford/AstraZeneca, Pfizer/Bi...</td>\n",
       "      <td>World Health Organization</td>\n",
       "      <td>https://covid19.who.int/</td>\n",
       "      <td>41128771.0</td>\n",
       "      <td>2021-05-11</td>\n",
       "      <td>16</td>\n",
       "    </tr>\n",
       "  </tbody>\n",
       "</table>\n",
       "</div>"
      ],
      "text/plain": [
       "        country iso_code       date  total_vaccinations  people_vaccinated  \\\n",
       "78  Afghanistan      AFG 2021-05-11            504502.0           448878.0   \n",
       "87  Afghanistan      AFG 2021-05-20            547901.0           470341.0   \n",
       "91  Afghanistan      AFG 2021-05-24            573277.0           476367.0   \n",
       "93  Afghanistan      AFG 2021-05-26            590454.0           479372.0   \n",
       "94  Afghanistan      AFG 2021-05-27            593313.0           479574.0   \n",
       "\n",
       "    people_fully_vaccinated  daily_vaccinations_raw  daily_vaccinations  \\\n",
       "78                  55624.0                     NaN             13921.0   \n",
       "87                  77560.0                     NaN              4822.0   \n",
       "91                  96910.0                     NaN              5692.0   \n",
       "93                 111082.0                     NaN              6768.0   \n",
       "94                 113739.0                  2859.0              6487.0   \n",
       "\n",
       "    total_vaccinations_per_hundred  people_vaccinated_per_hundred  \\\n",
       "78                            1.27                           1.13   \n",
       "87                            1.38                           1.18   \n",
       "91                            1.44                           1.20   \n",
       "93                            1.48                           1.20   \n",
       "94                            1.49                           1.20   \n",
       "\n",
       "    people_fully_vaccinated_per_hundred  daily_vaccinations_per_million  \\\n",
       "78                                 0.14                           349.0   \n",
       "87                                 0.19                           121.0   \n",
       "91                                 0.24                           143.0   \n",
       "93                                 0.28                           170.0   \n",
       "94                                 0.29                           163.0   \n",
       "\n",
       "                                             vaccines  \\\n",
       "78  Johnson&Johnson, Oxford/AstraZeneca, Pfizer/Bi...   \n",
       "87  Johnson&Johnson, Oxford/AstraZeneca, Pfizer/Bi...   \n",
       "91  Johnson&Johnson, Oxford/AstraZeneca, Pfizer/Bi...   \n",
       "93  Johnson&Johnson, Oxford/AstraZeneca, Pfizer/Bi...   \n",
       "94  Johnson&Johnson, Oxford/AstraZeneca, Pfizer/Bi...   \n",
       "\n",
       "                  source_name            source_website  population  \\\n",
       "78  World Health Organization  https://covid19.who.int/  41128771.0   \n",
       "87  World Health Organization  https://covid19.who.int/  41128771.0   \n",
       "91  World Health Organization  https://covid19.who.int/  41128771.0   \n",
       "93  World Health Organization  https://covid19.who.int/  41128771.0   \n",
       "94  World Health Organization  https://covid19.who.int/  41128771.0   \n",
       "\n",
       "   Start_Date  Days Since Start  \n",
       "78 2021-05-11                 0  \n",
       "87 2021-05-11                 9  \n",
       "91 2021-05-11                13  \n",
       "93 2021-05-11                15  \n",
       "94 2021-05-11                16  "
      ]
     },
     "execution_count": 222,
     "metadata": {},
     "output_type": "execute_result"
    }
   ],
   "source": [
    "# Adding column for number of days since start\n",
    "data.sort_values(['country', 'date'], inplace=True)\n",
    "data['Start_Date'] = data.groupby('country')['date'].transform('min')\n",
    "data['Days Since Start'] = (data['date'] - data['Start_Date']).dt.days\n",
    "data.head()"
   ]
  },
  {
   "cell_type": "code",
   "execution_count": 223,
   "id": "e706da90-be38-4b2f-8fb6-39ba7116eee0",
   "metadata": {},
   "outputs": [],
   "source": [
    "data = data.interpolate(method='ffill')\n",
    "data['Percentage Fully Vaccinated'] = (data['people_fully_vaccinated_per_hundred'] / data['population']) * 100\n",
    "monthly_data = data.resample('M', on='date').mean()\n",
    "features = ['Days Since Start','daily_vaccinations','people_fully_vaccinated','people_vaccinated_per_hundred','people_vaccinated','people_fully_vaccinated_per_hundred', 'population']\n",
    "data['Target'] = (0.7 * data['population'] - data['people_fully_vaccinated']) / data['daily_vaccinations']\n",
    "data.dropna(subset=['Target'], inplace=True)\n",
    "X_train, X_test, y_train, y_test = train_test_split(data[features], data[target], test_size=0.2, random_state=42)\n",
    "model = LinearRegression()\n",
    "model.fit(X_train, y_train)\n",
    "y_pred = model.predict(X_test)"
   ]
  },
  {
   "cell_type": "code",
   "execution_count": 224,
   "id": "d0197cce-2ae8-4900-9dd8-8240b6e8c86c",
   "metadata": {},
   "outputs": [
    {
     "data": {
      "image/png": "[encoded data removed]",
      "text/plain": [
       "<Figure size 640x480 with 1 Axes>"
      ]
     },
     "metadata": {},
     "output_type": "display_data"
    }
   ],
   "source": [
    "plt.scatter(y_test, y_pred)\n",
    "plt.xlabel('Actual')\n",
    "plt.ylabel('Predicted')\n",
    "plt.title('Actual vs Predicted Days to Reach Herd Immunity')\n",
    "plt.plot([min(y_test), max(y_test)], [min(y_test), max(y_test)], color='red')\n",
    "plt.show()"
   ]
  },
  {
   "cell_type": "code",
   "execution_count": null,
   "id": "917c1909-fc73-4db9-84e0-3256a95ffd47",
   "metadata": {},
   "outputs": [],
   "source": [
    "# Random Forest Aggressor\n",
    "model_rf = RandomForestRegressor(random_state=42)\n",
    "model_rf.fit(X_train, y_train)\n",
    "y_pred_rf = model_rf.predict(X_test)\n",
    "mse_rf = mean_squared_error(y_test, y_pred_rf)\n",
    "r2_rf = r2_score(y_test, y_pred_rf)\n",
    "print(f\"Random Forest Model Performance:\")\n",
    "print(f\"Mean Squared Error (MSE): {mse_rf}\")\n",
    "print(f\"R-squared (R2): {r2_rf}\")\n",
    "plt.figure(figsize=(8, 6))\n",
    "plt.scatter(y_test, y_pred_rf, color='blue')\n",
    "plt.plot([min(y_test), max(y_test)], [min(y_test), max(y_test)], color='red')  # y=x line\n",
    "plt.xlabel('Actual')\n",
    "plt.ylabel('Predicted')\n",
    "plt.title('Actual vs Predicted Days to Reach Herd Immunity (Random Forest)')\n",
    "plt.grid(True)\n",
    "plt.show()"
   ]
  },
  {
   "cell_type": "code",
   "execution_count": null,
   "id": "1c98bbee-82db-4370-9f91-fdbd0c537fa6",
   "metadata": {},
   "outputs": [],
   "source": []
  }
 ],
 "metadata": {
  "kernelspec": {
   "display_name": "Python 3 (ipykernel)",
   "language": "python",
   "name": "python3"
  },
  "language_info": {
   "codemirror_mode": {
    "name": "ipython",
    "version": 3
   },
   "file_extension": ".py",
   "mimetype": "text/x-python",
   "name": "python",
   "nbconvert_exporter": "python",
   "pygments_lexer": "ipython3",
   "version": "3.9.13"
  }
 },
 "nbformat": 4,
 "nbformat_minor": 5
}
