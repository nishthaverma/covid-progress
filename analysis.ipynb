{
 "cells": [
  {
   "cell_type": "markdown",
   "id": "fa37686f-6e4a-4879-a689-2f998b442e11",
   "metadata": {},
   "source": [
    "# Analyzing Covid-19 Vaccination Progress\n",
    "\n",
    "The Covid-19 epidemic, caused by the coronavirus SARS-CoV-2 emerged in late 2019, and has made profound impact on global health, economies and societies. Covid-19 vaccines were developed and approved for emergency use in record time. The COVAX initiative, led by WHO, Gavi, the Vaccine Alliance, and the Coalition for Epidemic Preparedness Innovations (CEPI), aims to ensure fair and equitable access to vaccines for low- and middle-income countries. \n",
    "In this project, we will try to find answers to the following questions:\n",
    "* What is the overall global progress of the covid-19 vaccination?\n",
    "* Which countries have the highest and lowest vaccination rates?\n",
    "* How does the vaccination rate correlate with the countries' population?\n",
    "* How does the vaccination rate correlate with the country's geographical location?\n",
    "* What is the prediction for when a country will achieve a certain vaccination threshold (eg: 70% for herd immunity) based on current rates?\n",
    "\n",
    "First, let me introduce our datasets. We are sourcing majority of our data from a <a href=\"https://www.kaggle.com/datasets/gpreda/covid-world-vaccination-progress?resource=download\" target=\"_blank\">Kaggle database</a>, which collects data daily from the Our World in Data github repository for covid-19. Apart from this, the population data has been obtained from the World Bank's records. \n",
    "\n",
    "To begin our analysis, we're going to start with cleaning our data. \n"
   ]
  },
  {
   "cell_type": "code",
   "execution_count": 519,
   "id": "29cde199-4dea-4b45-8fc1-5c9112cd5d48",
   "metadata": {},
   "outputs": [
    {
     "data": {
      "text/plain": [
       "9"
      ]
     },
     "execution_count": 519,
     "metadata": {},
     "output_type": "execute_result"
    }
   ],
   "source": [
    "import pandas as pd\n",
    "import pycountry\n",
    "import pycountry_convert as pc\n",
    "import matplotlib.pyplot as plt\n",
    "import seaborn as sns\n",
    "from sklearn.model_selection import train_test_split\n",
    "from sklearn.ensemble import RandomForestRegressor\n",
    "from sklearn.metrics import mean_squared_error, r2_score\n",
    "from sklearn.linear_model import LinearRegression\n",
    "from sklearn.preprocessing import StandardScaler\n",
    "pd.options.display.float_format = '{:.2f}'.format\n",
    "# checking for null values\n",
    "data = pd.read_csv('country_vaccinations.csv')\n",
    "data.isna().any().sum()"
   ]
  },
  {
   "cell_type": "markdown",
   "id": "94b0edd4-9536-4d3e-b11d-e21d78cf736d",
   "metadata": {},
   "source": [
    "Grouping the data by countries, we can find out the number of unique countries in our dataset. We also convert the date column in the right format to make it easier to work with later. "
   ]
  },
  {
   "cell_type": "code",
   "execution_count": 520,
   "id": "4e9eb5b1-85c2-42ed-98be-3a41c4d894a0",
   "metadata": {},
   "outputs": [],
   "source": [
    "country_wise = data.groupby(\"country\")\n",
    "data[\"country\"].nunique()\n",
    "data['date'] = pd.to_datetime(data['date'])"
   ]
  },
  {
   "cell_type": "markdown",
   "id": "6bfc0042-b3fb-4b37-b2ab-56823be9d429",
   "metadata": {},
   "source": [
    "After this, we try to find the countries with maximum and minimum vaccination percentages. In our data, we have vaccination percentages by the day for each country. To get to the final vaccination percentage for each country at the end of our timeframe, we find the maximum for each country."
   ]
  },
  {
   "cell_type": "code",
   "execution_count": 521,
   "id": "7f6850e0-5fae-4b02-9951-d946d6e5780e",
   "metadata": {},
   "outputs": [
    {
     "name": "stdout",
     "output_type": "stream",
     "text": [
      "country                                          Gibraltar\n",
      "date                                   2022-03-24 00:00:00\n",
      "people_fully_vaccinated_per_hundred                 122.37\n",
      "Name: 30235, dtype: object\n",
      "country                                            Burundi\n",
      "date                                   2022-03-12 00:00:00\n",
      "people_fully_vaccinated_per_hundred                   0.08\n",
      "Name: 12638, dtype: object\n"
     ]
    }
   ],
   "source": [
    "# finding countries with maximum and minimum vaccinated percentages\n",
    "data.dropna(subset = 'people_fully_vaccinated_per_hundred',inplace = True)\n",
    "fully_vaxxed = data[['country','date','people_fully_vaccinated_per_hundred']]\n",
    "indices = fully_vaxxed.groupby('country')['people_fully_vaccinated_per_hundred'].idxmax()\n",
    "new_indices_max = fully_vaxxed.loc[indices]\n",
    "max_idx = new_indices_max['people_fully_vaccinated_per_hundred'].idxmax()\n",
    "max_country = new_indices_max.loc[max_idx]\n",
    "print(max_country)\n",
    "new_indices_min = fully_vaxxed.loc[indices]\n",
    "min_idx = new_indices_min['people_fully_vaccinated_per_hundred'].idxmin()\n",
    "min_country = new_indices_min.loc[min_idx]\n",
    "print(min_country)"
   ]
  },
  {
   "cell_type": "markdown",
   "id": "dcacdfa3-c33e-46f5-8945-56e53628e273",
   "metadata": {},
   "source": [
    "We find that Burundi has the least percentage of vaccinated population, at 0.08%. Gibraltar appears to have the highest percentage of vaccinated population, at 122.37%. This is an interesting observation, because it is > 100%. It suggests that our data isn't entirely trustworthy. Potentially, this could be attributed to seperate doses administered for the same people being counted as individual numbers. Another explanation could be counting foreign nationals' statistics, although this is highly unlikely due to the hault in travel during that turbulent time. Further analysis and possibly repeated counting is necessary to draw any further inferences. "
   ]
  },
  {
   "cell_type": "markdown",
   "id": "299cafc2-6850-4b1d-8f90-9aab9f03db07",
   "metadata": {},
   "source": [
    "After this, we try to isolate the top 10% and bottom 10% of these countries to observe patterns. "
   ]
  },
  {
   "cell_type": "code",
   "execution_count": 522,
   "id": "c729be99-fa3f-4338-9121-c53eb7d1a0e9",
   "metadata": {},
   "outputs": [
    {
     "name": "stdout",
     "output_type": "stream",
     "text": [
      "                    country       date  people_fully_vaccinated_per_hundred\n",
      "30235             Gibraltar 2022-03-24                               122.37\n",
      "62293              Pitcairn 2021-09-07                               100.00\n",
      "81914  United Arab Emirates 2022-03-27                                96.12\n",
      "63189              Portugal 2022-03-10                                92.60\n",
      "11745                Brunei 2022-03-18                                91.71\n",
      "70228             Singapore 2022-03-28                                91.04\n",
      "49111                 Malta 2022-03-28                                90.35\n",
      "15755                 Chile 2022-03-22                                90.29\n",
      "63647                 Qatar 2022-03-24                                88.50\n",
      "14701        Cayman Islands 2022-03-25                                87.80\n",
      "57358                  Niue 2022-03-13                                87.79\n",
      "19243                  Cuba 2022-03-27                                87.57\n",
      "72972           South Korea 2022-03-28                                86.70\n",
      "16220                 China 2022-03-24                                85.91\n",
      "73770                 Spain 2022-03-23                                85.82\n",
      "26081        Faeroe Islands 2022-02-18                                83.37\n",
      "17616          Cook Islands 2022-03-28                                82.93\n",
      "21301               Denmark 2022-03-28                                82.60\n",
      "13057              Cambodia 2022-03-28                                82.55\n",
      "4419              Australia 2022-03-29                                82.21\n",
      "13872                Canada 2022-03-28                                81.83\n",
      "83226               Uruguay 2022-03-29                                81.56\n",
      "32252              Guernsey 2022-01-11                                81.01\n",
      "30235               Gibraltar\n",
      "62293                Pitcairn\n",
      "81914    United Arab Emirates\n",
      "63189                Portugal\n",
      "11745                  Brunei\n",
      "70228               Singapore\n",
      "49111                   Malta\n",
      "15755                   Chile\n",
      "63647                   Qatar\n",
      "14701          Cayman Islands\n",
      "57358                    Niue\n",
      "19243                    Cuba\n",
      "72972             South Korea\n",
      "16220                   China\n",
      "73770                   Spain\n",
      "26081          Faeroe Islands\n",
      "17616            Cook Islands\n",
      "21301                 Denmark\n",
      "13057                Cambodia\n",
      "4419                Australia\n",
      "13872                  Canada\n",
      "83226                 Uruguay\n",
      "32252                Guernsey\n",
      "Name: country, dtype: object\n"
     ]
    }
   ],
   "source": [
    "# getting top 10% and bottom 10% countries\n",
    "new_indices = pd.DataFrame(new_indices_max)\n",
    "sorted = new_indices.sort_values(by='people_fully_vaccinated_per_hundred', ascending = False).head(23)\n",
    "print(sorted)\n",
    "print(sorted['country'])"
   ]
  },
  {
   "cell_type": "markdown",
   "id": "99fe05fd-6397-4718-a3b7-ec6594cd4b6f",
   "metadata": {},
   "source": [
    "Upon getting the top 10% and bottom 10% of the countries, we try to find common links and patterns. Consulting large language models leads to a couple of interesting observations:\n",
    "* Of the 23 top 10% countries, 7 are in Europe and 7 are in Asia. The 23 bottom 10% countries on the other hand comprise of 18 countries in Africa\n",
    "* The average Human Developmental Index for the top 10% of the countries is 0.894. The average HDI for bottom 10% of the countries on the other hand is 0.496, which is significantly lower.\n",
    "* The total population in the top 10% of the countries is 1.15 billion, over a 1000 times of the population in the lower 10% of the countries, at 1.15 million"
   ]
  },
  {
   "cell_type": "code",
   "execution_count": 523,
   "id": "bcc4e607-2422-48d9-b8bf-2de901813b71",
   "metadata": {},
   "outputs": [
    {
     "name": "stdout",
     "output_type": "stream",
     "text": [
      "          country       date  people_fully_vaccinated_per_hundred\n",
      "393   Afghanistan 2022-03-22                                11.10\n",
      "832       Albania 2022-03-24                                42.30\n",
      "1237      Algeria 2022-03-09                                13.70\n",
      "1650      Andorra 2022-03-13                                68.99\n",
      "2040       Angola 2022-03-25                                17.66\n"
     ]
    }
   ],
   "source": [
    "print((new_indices).head())"
   ]
  },
  {
   "cell_type": "markdown",
   "id": "52963157-209d-4db5-8309-db79206f7ccb",
   "metadata": {},
   "source": [
    "Now that we noticed that a majority of the countries with low vaccination rates are based in Africa, we try to see if it's a similar pattern across the rest of the data. To do this, we will first integrate a continent column to our dataframe. "
   ]
  },
  {
   "cell_type": "code",
   "execution_count": 524,
   "id": "9642f4d7-4551-4b40-b3e3-2caf69c5259a",
   "metadata": {},
   "outputs": [],
   "source": [
    "# imtegrating continent data\n",
    "def get_cont(country_name):\n",
    "    try:\n",
    "        country_alpha2 = pycountry.countries.lookup(country_name).alpha_2\n",
    "        continent_code = pc.country_alpha2_to_continent_code(country_alpha2)\n",
    "        continent_name = pc.convert_continent_code_to_continent_name(continent_code)\n",
    "        return continent_name\n",
    "    except (LookupError, KeyError):\n",
    "        return None"
   ]
  },
  {
   "cell_type": "code",
   "execution_count": 525,
   "id": "cdb3225c-a047-4908-a8b3-748911181bcd",
   "metadata": {},
   "outputs": [],
   "source": [
    "# adding continent list as a column\n",
    "cont_list = []\n",
    "for country in new_indices['country']:\n",
    "    continent = get_cont(country)\n",
    "    cont_list.append(continent)\n"
   ]
  },
  {
   "cell_type": "code",
   "execution_count": 526,
   "id": "aadba6a7-2996-4423-b1b7-c6b22461ae05",
   "metadata": {},
   "outputs": [
    {
     "name": "stdout",
     "output_type": "stream",
     "text": [
      "          country       date  people_fully_vaccinated_per_hundred continent\n",
      "393   Afghanistan 2022-03-22                                11.10      Asia\n",
      "832       Albania 2022-03-24                                42.30    Europe\n",
      "1237      Algeria 2022-03-09                                13.70    Africa\n",
      "1650      Andorra 2022-03-13                                68.99    Europe\n",
      "2040       Angola 2022-03-25                                17.66    Africa\n"
     ]
    }
   ],
   "source": [
    "new_indices['continent'] = cont_list\n",
    "print(new_indices.head())"
   ]
  },
  {
   "cell_type": "markdown",
   "id": "6060ae4b-2872-4301-a5f1-d435ea1fd153",
   "metadata": {},
   "source": [
    "Now that we have the continent column, we get the average vaccination rates for them, and graph it using a bar graph."
   ]
  },
  {
   "cell_type": "code",
   "execution_count": 527,
   "id": "89e8bfe7-8c6c-43f6-bb78-95013acba596",
   "metadata": {},
   "outputs": [
    {
     "name": "stdout",
     "output_type": "stream",
     "text": [
      "       continent  people_fully_vaccinated_per_hundred\n",
      "0         Africa                                21.06\n",
      "1           Asia                                58.77\n",
      "2         Europe                                66.51\n",
      "3  North America                                54.92\n",
      "4        Oceania                                58.88\n",
      "5  South America                                64.87\n"
     ]
    }
   ],
   "source": [
    "# getting mean vaccination rates for all continents\n",
    "cont_vacc =new_indices.groupby('continent')['people_fully_vaccinated_per_hundred'].mean().reset_index()\n",
    "print(cont_vacc)"
   ]
  },
  {
   "cell_type": "code",
   "execution_count": 528,
   "id": "537be3e1-5181-4bce-be89-040556fe0331",
   "metadata": {},
   "outputs": [
    {
     "data": {
      "image/png": "[encoded data removed]",
      "text/plain": [
       "<Figure size 1000x600 with 1 Axes>"
      ]
     },
     "metadata": {},
     "output_type": "display_data"
    }
   ],
   "source": [
    "# graph creation\n",
    "sns.set_style(\"whitegrid\")\n",
    "plt.figure(figsize=(10,6))\n",
    "sns.barplot(data=cont_vacc,x='continent',y='people_fully_vaccinated_per_hundred',color = 'skyblue')\n",
    "plt.title('Average Vaccination Rate by Continent', fontsize = 16, fontweight = 'bold')\n",
    "plt.xlabel('Continent', fontsize = 14)\n",
    "plt.ylabel('Average Vaccination Rate', fontsize = 14)\n",
    "plt.show()"
   ]
  },
  {
   "cell_type": "markdown",
   "id": "a630b406-4968-43c0-88fd-1a6e77300096",
   "metadata": {},
   "source": [
    "Next, we try to work with the population trends. To begin, we integrate a population column in our data."
   ]
  },
  {
   "cell_type": "code",
   "execution_count": 529,
   "id": "57668987",
   "metadata": {},
   "outputs": [
    {
     "name": "stdout",
     "output_type": "stream",
     "text": [
      "                  Country Name         2022\n",
      "0                        Aruba    106445.00\n",
      "1  Africa Eastern and Southern 720859132.00\n",
      "2                  Afghanistan  41128771.00\n",
      "3   Africa Western and Central 490330870.00\n",
      "4                       Angola  35588987.00\n"
     ]
    }
   ],
   "source": [
    "# integrating population data\n",
    "pop = pd.read_csv('populations.csv', skiprows = 4)\n",
    "print(pop.head())\n",
    "poplist = []\n",
    "count1 = 0\n",
    "count2 = 0\n",
    "for country in new_indices['country']:\n",
    "    if country in pop['Country Name'].values:\n",
    "        index = pop[pop['Country Name'] == country].index[0]\n",
    "        poplist.append(pop.at[index, '2022'])\n",
    "    else:\n",
    "        poplist.append(float('nan'))"
   ]
  },
  {
   "cell_type": "code",
   "execution_count": 530,
   "id": "1adad55e-1dd3-4583-9238-71d1ea17181f",
   "metadata": {},
   "outputs": [
    {
     "data": {
      "text/plain": [
       "0"
      ]
     },
     "execution_count": 530,
     "metadata": {},
     "output_type": "execute_result"
    }
   ],
   "source": [
    "# setting column as poplist, cleaning data again\n",
    "new_indices['population'] = poplist\n",
    "cleaned_pop = new_indices[new_indices['population'].notna()]\n",
    "cleaned_pop['population'].isna().any().sum()"
   ]
  },
  {
   "cell_type": "markdown",
   "id": "5c56ade7-d296-4cd8-8604-c3eafb7c338f",
   "metadata": {},
   "source": [
    "We now create a scatterplot to observe trends between population distribution and vaccination rates, by dividing countries into sections of vaccination percentages. "
   ]
  },
  {
   "cell_type": "code",
   "execution_count": 531,
   "id": "5dca4e86-a4a2-4fc9-a433-8863444b317b",
   "metadata": {},
   "outputs": [
    {
     "data": {
      "text/html": [
       "<div>\n",
       "<style scoped>\n",
       "    .dataframe tbody tr th:only-of-type {\n",
       "        vertical-align: middle;\n",
       "    }\n",
       "\n",
       "    .dataframe tbody tr th {\n",
       "        vertical-align: top;\n",
       "    }\n",
       "\n",
       "    .dataframe thead th {\n",
       "        text-align: right;\n",
       "    }\n",
       "</style>\n",
       "<table border=\"1\" class=\"dataframe\">\n",
       "  <thead>\n",
       "    <tr style=\"text-align: right;\">\n",
       "      <th></th>\n",
       "      <th>country</th>\n",
       "      <th>date</th>\n",
       "      <th>people_fully_vaccinated_per_hundred</th>\n",
       "      <th>continent</th>\n",
       "      <th>population</th>\n",
       "      <th>Vacc Range</th>\n",
       "    </tr>\n",
       "  </thead>\n",
       "  <tbody>\n",
       "    <tr>\n",
       "      <th>393</th>\n",
       "      <td>Afghanistan</td>\n",
       "      <td>2022-03-22</td>\n",
       "      <td>11.10</td>\n",
       "      <td>Asia</td>\n",
       "      <td>41128771.00</td>\n",
       "      <td>0-20%</td>\n",
       "    </tr>\n",
       "    <tr>\n",
       "      <th>832</th>\n",
       "      <td>Albania</td>\n",
       "      <td>2022-03-24</td>\n",
       "      <td>42.30</td>\n",
       "      <td>Europe</td>\n",
       "      <td>2777689.00</td>\n",
       "      <td>40-60%</td>\n",
       "    </tr>\n",
       "    <tr>\n",
       "      <th>1237</th>\n",
       "      <td>Algeria</td>\n",
       "      <td>2022-03-09</td>\n",
       "      <td>13.70</td>\n",
       "      <td>Africa</td>\n",
       "      <td>44903225.00</td>\n",
       "      <td>0-20%</td>\n",
       "    </tr>\n",
       "    <tr>\n",
       "      <th>1650</th>\n",
       "      <td>Andorra</td>\n",
       "      <td>2022-03-13</td>\n",
       "      <td>68.99</td>\n",
       "      <td>Europe</td>\n",
       "      <td>79824.00</td>\n",
       "      <td>60-80%</td>\n",
       "    </tr>\n",
       "    <tr>\n",
       "      <th>2040</th>\n",
       "      <td>Angola</td>\n",
       "      <td>2022-03-25</td>\n",
       "      <td>17.66</td>\n",
       "      <td>Africa</td>\n",
       "      <td>35588987.00</td>\n",
       "      <td>0-20%</td>\n",
       "    </tr>\n",
       "  </tbody>\n",
       "</table>\n",
       "</div>"
      ],
      "text/plain": [
       "          country       date  people_fully_vaccinated_per_hundred continent  \\\n",
       "393   Afghanistan 2022-03-22                                11.10      Asia   \n",
       "832       Albania 2022-03-24                                42.30    Europe   \n",
       "1237      Algeria 2022-03-09                                13.70    Africa   \n",
       "1650      Andorra 2022-03-13                                68.99    Europe   \n",
       "2040       Angola 2022-03-25                                17.66    Africa   \n",
       "\n",
       "      population Vacc Range  \n",
       "393  41128771.00      0-20%  \n",
       "832   2777689.00     40-60%  \n",
       "1237 44903225.00      0-20%  \n",
       "1650    79824.00     60-80%  \n",
       "2040 35588987.00      0-20%  "
      ]
     },
     "execution_count": 531,
     "metadata": {},
     "output_type": "execute_result"
    }
   ],
   "source": [
    "# scatterplot showing trends between population distribution and vaccination rate\n",
    "bins = [0, 20, 40, 60, 80, 100]\n",
    "bin_labels = ['0-20%', '20-40%', '40-60%', '60-80%', '80-100%']\n",
    "cleaned_pop = pd.DataFrame(cleaned_pop)\n",
    "cleaned_pop['Vacc Range'] = pd.cut(cleaned_pop['people_fully_vaccinated_per_hundred'], bins=bins, labels=bin_labels)\n",
    "cleaned_pop.head()"
   ]
  },
  {
   "cell_type": "code",
   "execution_count": 532,
   "id": "2515aea6-2fbf-4f94-b4e2-e32171705438",
   "metadata": {},
   "outputs": [
    {
     "name": "stdout",
     "output_type": "stream",
     "text": [
      "  Vacc Range  Number of Countries\n",
      "0      0-20%                   39\n",
      "1     20-40%                   19\n",
      "2     40-60%                   39\n",
      "3     60-80%                   63\n",
      "4    80-100%                   18\n"
     ]
    }
   ],
   "source": [
    "grouped = cleaned_pop.groupby('Vacc Range')['country'].count().reset_index()\n",
    "grouped.columns = ['Vacc Range', 'Number of Countries']\n",
    "print(grouped)"
   ]
  },
  {
   "cell_type": "code",
   "execution_count": 533,
   "id": "6ea55187-8504-479b-b929-0a7d5e56cc2b",
   "metadata": {},
   "outputs": [
    {
     "data": {
      "image/png": "[encoded data removed]",
      "text/plain": [
       "<Figure size 800x600 with 1 Axes>"
      ]
     },
     "metadata": {},
     "output_type": "display_data"
    }
   ],
   "source": [
    "cleaned_pop['Vacc Range'] = cleaned_pop['Vacc Range'].astype(str)\n",
    "plt.figure(figsize=(8, 6))\n",
    "plt.scatter(cleaned_pop['people_fully_vaccinated_per_hundred'], cleaned_pop['population'], s=50, c='blue', alpha=0.7)\n",
    "plt.title('Population Distribution vs Vaccination Rate')\n",
    "plt.xlabel('Population')\n",
    "plt.ylabel('Vaccination Rate (%)')\n",
    "plt.xticks(rotation=45)\n",
    "plt.grid(True)\n",
    "plt.tight_layout()\n",
    "plt.show()"
   ]
  },
  {
   "cell_type": "markdown",
   "id": "69149944-5452-447c-9f84-48249dfca6ab",
   "metadata": {},
   "source": [
    "We now add the population data to our original, unaltered dataframe to work on our prediction model."
   ]
  },
  {
   "cell_type": "code",
   "execution_count": null,
   "id": "3b9435aa-d718-48e8-8a3e-c7f0fe7ed985",
   "metadata": {},
   "outputs": [],
   "source": [
    "# Adding population to data\n",
    "poplist2 = []\n",
    "count1 = 0\n",
    "count2 = 0\n",
    "for country in data['country']:\n",
    "    if country in pop['Country Name'].values:\n",
    "        index = pop[pop['Country Name'] == country].index[0]\n",
    "        poplist2.append(pop.at[index, '2022'])\n",
    "    else:\n",
    "        poplist2.append(float('nan'))\n",
    "data['population'] = poplist2\n",
    "print(data.head())"
   ]
  },
  {
   "cell_type": "markdown",
   "id": "9c74891c-b71d-4508-99c9-b12033447e82",
   "metadata": {},
   "source": [
    "We also add days since start of our vaccination count for each row of each country, another parameter to be used in our prediction model. "
   ]
  },
  {
   "cell_type": "code",
   "execution_count": null,
   "id": "be3aa4a5-b40c-469a-ac16-dbeac9757fbf",
   "metadata": {},
   "outputs": [],
   "source": [
    "# Adding column for number of days since start\n",
    "data.sort_values(['country', 'date'], inplace=True)\n",
    "data['Start_Date'] = data.groupby('country')['date'].transform('min')\n",
    "data['Days Since Start'] = (data['date'] - data['Start_Date']).dt.days\n",
    "data.head()"
   ]
  },
  {
   "cell_type": "markdown",
   "id": "c062c504-a38a-4631-ac77-464bddf243f9",
   "metadata": {},
   "source": [
    "Next, we work on the prediction model. We start with forward filling missing data. Then we add a column for the percentage of people fully vaccinated. We create our features list and training, testing datasets. Our target variable here would be the remaining vaccination percentage to reach herd immunity.  "
   ]
  },
  {
   "cell_type": "markdown",
   "id": "13679fbb-a5b7-46ef-859a-d091bbd0056a",
   "metadata": {},
   "source": [
    "We try to fit our model into a linear regression model, and use it to make predictions on the test data. "
   ]
  },
  {
   "cell_type": "code",
   "execution_count": null,
   "id": "e706da90-be38-4b2f-8fb6-39ba7116eee0",
   "metadata": {},
   "outputs": [],
   "source": [
    "data = data.interpolate(method='ffill')\n",
    "data['percent_left'] = 100 * (0.7 * data['population'] - data['people_fully_vaccinated'])/data['population']\n",
    "data['Percentage Fully Vaccinated'] = (data['people_fully_vaccinated_per_hundred'] / data['population']) * 100\n",
    "monthly_data = data.resample('M', on='date').mean()\n",
    "data['vacc_rem'] = (0.7 * data['population'] - data['people_fully_vaccinated'])\n",
    "features = ['daily_vaccinations','population','vacc_rem','percent_left']\n",
    "data['Target'] = (0.7 * data['population'] - data['people_fully_vaccinated']) / data['daily_vaccinations']\n",
    "data.dropna(subset=['Target'], inplace=True)\n",
    "X_train, X_test, y_train, y_test = train_test_split(data[features], data[target], test_size=0.2, random_state=42)\n",
    "model = LinearRegression()\n",
    "model.fit(X_train, y_train)\n",
    "y_pred = model.predict(X_test)"
   ]
  },
  {
   "cell_type": "markdown",
   "id": "75a98876-da1e-46c6-a853-b5afb73af3ab",
   "metadata": {},
   "source": [
    "Now, let's try to visualize the predictions we just made. We do this by plotting the actual vs expected days to reach herd immunity using our model. The reference line in red (y=x), represents the ideal scenario. "
   ]
  },
  {
   "cell_type": "code",
   "execution_count": null,
   "id": "d0197cce-2ae8-4900-9dd8-8240b6e8c86c",
   "metadata": {},
   "outputs": [],
   "source": [
    "plt.scatter(y_test, y_pred)\n",
    "plt.xlabel('Actual')\n",
    "plt.ylabel('Predicted')\n",
    "plt.title('Actual vs Predicted Days to Reach Herd Immunity')\n",
    "plt.plot([min(y_test), max(y_test)], [min(y_test), max(y_test)], color='red')\n",
    "plt.show()"
   ]
  },
  {
   "cell_type": "code",
   "execution_count": null,
   "id": "ed11d153-827a-4b71-8352-9b336b706b08",
   "metadata": {},
   "outputs": [],
   "source": [
    "data['Predicted_Days_to_Herd_Immunity'] = model.predict(data[features])\n",
    "columns_to_check = ['Predicted_Days_to_Herd_Immunity']\n",
    "data2 = data[(data[columns_to_check] >= 0).all(axis=1)] \n",
    "country_predictions = data2[['country', 'Predicted_Days_to_Herd_Immunity']]\n",
    "ind_count = country_predictions.groupby('country')['Predicted_Days_to_Herd_Immunity'].idxmin()\n",
    "country_pred = country_predictions.loc[ind_count]\n",
    "print(country_pred.head(40))"
   ]
  },
  {
   "cell_type": "markdown",
   "id": "0e26e16b-492e-4824-a851-e9375384f097",
   "metadata": {},
   "source": [
    "Clearly, our prediction model is flawed. It is very far off from the ideal situation, and so we should try to use some other model. Linear regression is not a good fit, most likely because it is not catching the underlying patterns in our test data. "
   ]
  },
  {
   "cell_type": "markdown",
   "id": "34b4165a-4b61-4a47-af80-705b5db52c0a",
   "metadata": {},
   "source": [
    "So now, we try to find another model that more closely fits our requirements. The Random Forest Aggressor would be a good choice in this case due to non linearity of the data and complex models. We repeat the same process as above for this model. "
   ]
  },
  {
   "cell_type": "code",
   "execution_count": null,
   "id": "917c1909-fc73-4db9-84e0-3256a95ffd47",
   "metadata": {},
   "outputs": [],
   "source": [
    "# Random Forest Aggressor\n",
    "model_rf = RandomForestRegressor(random_state=30)\n",
    "model_rf.fit(X_train, y_train)\n",
    "y_pred_rf = model_rf.predict(X_test)\n",
    "mse_rf = mean_squared_error(y_test, y_pred_rf)\n",
    "r2_rf = r2_score(y_test, y_pred_rf)\n",
    "print(f\"Random Forest Model Performance:\")\n",
    "print(f\"Mean Squared Error (MSE): {mse_rf}\")\n",
    "print(f\"R-squared (R2): {r2_rf}\")\n",
    "plt.figure(figsize=(8, 6))\n",
    "plt.scatter(y_test, y_pred_rf, color='blue')\n",
    "plt.plot([min(y_test), max(y_test)], [min(y_test), max(y_test)], color='red')  # y=x line\n",
    "plt.xlabel('Actual')\n",
    "plt.ylabel('Predicted')\n",
    "plt.title('Actual vs Predicted Days to Reach Herd Immunity (Random Forest)')\n",
    "plt.grid(True)\n",
    "plt.show()"
   ]
  },
  {
   "cell_type": "code",
   "execution_count": null,
   "id": "305bd453-c313-40e3-8485-c6ca05eb438a",
   "metadata": {},
   "outputs": [],
   "source": [
    "data['Predicted_Days_to_Herd_Immunity_RF'] = model_rf.predict(data[features])\n",
    "columns_to_check2 = ['Predicted_Days_to_Herd_Immunity_RF']\n",
    "data3 = data[(data[columns_to_check2] >= 0).all(axis=1)] \n",
    "country_predictions_RF = data3[['country', 'Predicted_Days_to_Herd_Immunity_RF']]\n",
    "ind_count2 = country_predictions_RF.groupby('country')['Predicted_Days_to_Herd_Immunity_RF'].idxmin()\n",
    "country_pred2 = country_predictions2.loc[ind_count2]\n",
    "print(country_pred2.head(40))"
   ]
  },
  {
   "cell_type": "markdown",
   "id": "367f183a-60fe-46a4-8f08-1bbd7f887b02",
   "metadata": {},
   "source": [
    "We observe that this model is a good fit, as the line of best fit closely matches our predictions. "
   ]
  },
  {
   "cell_type": "markdown",
   "id": "cb689a23-4c7f-4666-a9ed-6509c0dedbf9",
   "metadata": {},
   "source": [
    "Now, we use our model to predict the number of days to reach herd immunity for the countries in our dataset. We also get rid of countries with negative predicted days, because that means we have already reached herd immunity. "
   ]
  },
  {
   "cell_type": "code",
   "execution_count": null,
   "id": "d0d6740e-9020-414b-8f1d-025d61c95f81",
   "metadata": {},
   "outputs": [],
   "source": []
  },
  {
   "cell_type": "code",
   "execution_count": null,
   "id": "c5b19837-e687-45ff-8c53-249a7907e9f1",
   "metadata": {},
   "outputs": [],
   "source": []
  },
  {
   "cell_type": "code",
   "execution_count": 381,
   "id": "e80bab8d-5044-4344-a6a6-078b5583e233",
   "metadata": {},
   "outputs": [],
   "source": [
    "#Summary\n",
    "\n"
   ]
  },
  {
   "cell_type": "code",
   "execution_count": null,
   "id": "3cb4d8da-56aa-48e8-89bf-f7c5ce18f530",
   "metadata": {},
   "outputs": [],
   "source": []
  }
 ],
 "metadata": {
  "kernelspec": {
   "display_name": "Python 3 (ipykernel)",
   "language": "python",
   "name": "python3"
  },
  "language_info": {
   "codemirror_mode": {
    "name": "ipython",
    "version": 3
   },
   "file_extension": ".py",
   "mimetype": "text/x-python",
   "name": "python",
   "nbconvert_exporter": "python",
   "pygments_lexer": "ipython3",
   "version": "3.9.13"
  }
 },
 "nbformat": 4,
 "nbformat_minor": 5
}
