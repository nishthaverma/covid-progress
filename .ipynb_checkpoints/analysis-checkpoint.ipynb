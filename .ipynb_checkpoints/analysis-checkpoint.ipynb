{
 "cells": [
  {
   "cell_type": "markdown",
   "id": "fa37686f-6e4a-4879-a689-2f998b442e11",
   "metadata": {},
   "source": [
    "# Analyzing Covid-19 Vaccination Progress\n",
    "\n",
    "The Covid-19 epidemic, caused by the coronavirus SARS-CoV-2 emerged in late 2019, and has made profound impact on global health, economies and societies. Covid-19 vaccines were developed and approved for emergency use in record time. The COVAX initiative, led by WHO, Gavi, the Vaccine Alliance, and the Coalition for Epidemic Preparedness Innovations (CEPI), aims to ensure fair and equitable access to vaccines for low- and middle-income countries. \n",
    "In this project, we will try to find answers to the following questions:\n",
    "* What is the overall global progress of the covid-19 vaccination?\n",
    "* Which countries have the highest and lowest vaccination rates?\n",
    "* How does the vaccination rate correlate with the countries' population?\n",
    "* How does the vaccination rate correlate with the country's geographical location?\n",
    "* What is the prediction for when a country will achieve a certain vaccination threshold (eg: 70% for herd immunity) based on current rates?\n",
    "\n",
    "First, let me introduce our datasets. We are sourcing majority of our data from a <a href=\"https://www.kaggle.com/datasets/gpreda/covid-world-vaccination-progress?resource=download\" target=\"_blank\">Kaggle database</a>, which collects data daily from the Our World in Data github repository for covid-19. Apart from this, the population data has been obtained from the World Bank's records. \n",
    "\n",
    "To begin our analysis, we're going to start with cleaning our data. \n"
   ]
  },
  {
   "cell_type": "code",
   "execution_count": 635,
   "id": "29cde199-4dea-4b45-8fc1-5c9112cd5d48",
   "metadata": {},
   "outputs": [
    {
     "data": {
      "text/plain": [
       "9"
      ]
     },
     "execution_count": 635,
     "metadata": {},
     "output_type": "execute_result"
    }
   ],
   "source": [
    "import pandas as pd\n",
    "import pycountry\n",
    "import pycountry_convert as pc\n",
    "import matplotlib.pyplot as plt\n",
    "import seaborn as sns\n",
    "from sklearn.model_selection import train_test_split\n",
    "from sklearn.ensemble import RandomForestRegressor\n",
    "from sklearn.metrics import mean_squared_error, r2_score\n",
    "from sklearn.linear_model import LinearRegression\n",
    "pd.options.display.float_format = '{:.2f}'.format\n",
    "# checking for null values\n",
    "data = pd.read_csv('country_vaccinations.csv')\n",
    "data.isna().any().sum()"
   ]
  },
  {
   "cell_type": "markdown",
   "id": "94b0edd4-9536-4d3e-b11d-e21d78cf736d",
   "metadata": {},
   "source": [
    "Grouping the data by countries, we can find out the number of unique countries in our dataset. We also convert the date column in the right format to make it easier to work with later. "
   ]
  },
  {
   "cell_type": "code",
   "execution_count": 636,
   "id": "4e9eb5b1-85c2-42ed-98be-3a41c4d894a0",
   "metadata": {},
   "outputs": [],
   "source": [
    "country_wise = data.groupby(\"country\")\n",
    "data[\"country\"].nunique()\n",
    "data['date'] = pd.to_datetime(data['date'])"
   ]
  },
  {
   "cell_type": "markdown",
   "id": "6bfc0042-b3fb-4b37-b2ab-56823be9d429",
   "metadata": {},
   "source": [
    "After this, we try to find the countries with maximum and minimum vaccination percentages. In our data, we have vaccination percentages by the day for each country. To get to the final vaccination percentage for each country at the end of our timeframe, we find the maximum for each country."
   ]
  },
  {
   "cell_type": "code",
   "execution_count": 637,
   "id": "7f6850e0-5fae-4b02-9951-d946d6e5780e",
   "metadata": {},
   "outputs": [
    {
     "name": "stdout",
     "output_type": "stream",
     "text": [
      "country                                          Gibraltar\n",
      "date                                   2022-03-24 00:00:00\n",
      "people_fully_vaccinated_per_hundred                 122.37\n",
      "Name: 30235, dtype: object\n",
      "country                                            Burundi\n",
      "date                                   2022-03-12 00:00:00\n",
      "people_fully_vaccinated_per_hundred                   0.08\n",
      "Name: 12638, dtype: object\n"
     ]
    }
   ],
   "source": [
    "# finding countries with maximum and minimum vaccinated percentages\n",
    "data.dropna(subset = 'people_fully_vaccinated_per_hundred',inplace = True)\n",
    "fully_vaxxed = data[['country','date','people_fully_vaccinated_per_hundred']]\n",
    "indices = fully_vaxxed.groupby('country')['people_fully_vaccinated_per_hundred'].idxmax()\n",
    "new_indices_max = fully_vaxxed.loc[indices]\n",
    "max_idx = new_indices_max['people_fully_vaccinated_per_hundred'].idxmax()\n",
    "max_country = new_indices_max.loc[max_idx]\n",
    "print(max_country)\n",
    "new_indices_min = fully_vaxxed.loc[indices]\n",
    "min_idx = new_indices_min['people_fully_vaccinated_per_hundred'].idxmin()\n",
    "min_country = new_indices_min.loc[min_idx]\n",
    "print(min_country)"
   ]
  },
  {
   "cell_type": "markdown",
   "id": "dcacdfa3-c33e-46f5-8945-56e53628e273",
   "metadata": {},
   "source": [
    "We find that Burundi has the least percentage of vaccinated population, at 0.08%. Gibraltar appears to have the highest percentage of vaccinated population, at 122.37%. This is an interesting observation, because it is > 100%. It suggests that our data isn't entirely trustworthy. Potentially, this could be attributed to seperate doses administered for the same people being counted as individual numbers. Another explanation could be counting foreign nationals' statistics, although this is highly unlikely due to the hault in travel during that turbulent time. Further analysis and possibly repeated counting is necessary to draw any further inferences. "
   ]
  },
  {
   "cell_type": "markdown",
   "id": "299cafc2-6850-4b1d-8f90-9aab9f03db07",
   "metadata": {},
   "source": [
    "After this, we try to isolate the top 10% and bottom 10% of these countries to observe patterns. "
   ]
  },
  {
   "cell_type": "code",
   "execution_count": 638,
   "id": "c729be99-fa3f-4338-9121-c53eb7d1a0e9",
   "metadata": {},
   "outputs": [
    {
     "name": "stdout",
     "output_type": "stream",
     "text": [
      "                    country       date  people_fully_vaccinated_per_hundred\n",
      "30235             Gibraltar 2022-03-24                               122.37\n",
      "62293              Pitcairn 2021-09-07                               100.00\n",
      "81914  United Arab Emirates 2022-03-27                                96.12\n",
      "63189              Portugal 2022-03-10                                92.60\n",
      "11745                Brunei 2022-03-18                                91.71\n",
      "70228             Singapore 2022-03-28                                91.04\n",
      "49111                 Malta 2022-03-28                                90.35\n",
      "15755                 Chile 2022-03-22                                90.29\n",
      "63647                 Qatar 2022-03-24                                88.50\n",
      "14701        Cayman Islands 2022-03-25                                87.80\n",
      "57358                  Niue 2022-03-13                                87.79\n",
      "19243                  Cuba 2022-03-27                                87.57\n",
      "72972           South Korea 2022-03-28                                86.70\n",
      "16220                 China 2022-03-24                                85.91\n",
      "73770                 Spain 2022-03-23                                85.82\n",
      "26081        Faeroe Islands 2022-02-18                                83.37\n",
      "17616          Cook Islands 2022-03-28                                82.93\n",
      "21301               Denmark 2022-03-28                                82.60\n",
      "13057              Cambodia 2022-03-28                                82.55\n",
      "4419              Australia 2022-03-29                                82.21\n",
      "13872                Canada 2022-03-28                                81.83\n",
      "83226               Uruguay 2022-03-29                                81.56\n",
      "32252              Guernsey 2022-01-11                                81.01\n",
      "30235               Gibraltar\n",
      "62293                Pitcairn\n",
      "81914    United Arab Emirates\n",
      "63189                Portugal\n",
      "11745                  Brunei\n",
      "70228               Singapore\n",
      "49111                   Malta\n",
      "15755                   Chile\n",
      "63647                   Qatar\n",
      "14701          Cayman Islands\n",
      "57358                    Niue\n",
      "19243                    Cuba\n",
      "72972             South Korea\n",
      "16220                   China\n",
      "73770                   Spain\n",
      "26081          Faeroe Islands\n",
      "17616            Cook Islands\n",
      "21301                 Denmark\n",
      "13057                Cambodia\n",
      "4419                Australia\n",
      "13872                  Canada\n",
      "83226                 Uruguay\n",
      "32252                Guernsey\n",
      "Name: country, dtype: object\n"
     ]
    }
   ],
   "source": [
    "# getting top 10% and bottom 10% countries\n",
    "new_indices = pd.DataFrame(new_indices_max)\n",
    "sorted = new_indices.sort_values(by='people_fully_vaccinated_per_hundred', ascending = False).head(23)\n",
    "print(sorted)\n",
    "print(sorted['country'])"
   ]
  },
  {
   "cell_type": "markdown",
   "id": "99fe05fd-6397-4718-a3b7-ec6594cd4b6f",
   "metadata": {},
   "source": [
    "Upon getting the top 10% and bottom 10% of the countries, we try to find common links and patterns. Consulting large language models leads to a couple of interesting observations:\n",
    "* Of the 23 top 10% countries, 7 are in Europe and 7 are in Asia. The 23 bottom 10% countries on the other hand comprise of 18 countries in Africa\n",
    "* The average Human Developmental Index for the top 10% of the countries is 0.894. The average HDI for bottom 10% of the countries on the other hand is 0.496, which is significantly lower.\n",
    "* The total population in the top 10% of the countries is 1.15 billion, over a 1000 times of the population in the lower 10% of the countries, at 1.15 million"
   ]
  },
  {
   "cell_type": "code",
   "execution_count": 639,
   "id": "bcc4e607-2422-48d9-b8bf-2de901813b71",
   "metadata": {},
   "outputs": [
    {
     "name": "stdout",
     "output_type": "stream",
     "text": [
      "          country       date  people_fully_vaccinated_per_hundred\n",
      "393   Afghanistan 2022-03-22                                11.10\n",
      "832       Albania 2022-03-24                                42.30\n",
      "1237      Algeria 2022-03-09                                13.70\n",
      "1650      Andorra 2022-03-13                                68.99\n",
      "2040       Angola 2022-03-25                                17.66\n"
     ]
    }
   ],
   "source": [
    "print((new_indices).head())"
   ]
  },
  {
   "cell_type": "markdown",
   "id": "52963157-209d-4db5-8309-db79206f7ccb",
   "metadata": {},
   "source": [
    "Now that we noticed that a majority of the countries with low vaccination rates are based in Africa, we try to see if it's a similar pattern across the rest of the data. To do this, we will first integrate a continent column to our dataframe. "
   ]
  },
  {
   "cell_type": "code",
   "execution_count": 640,
   "id": "9642f4d7-4551-4b40-b3e3-2caf69c5259a",
   "metadata": {},
   "outputs": [],
   "source": [
    "# imtegrating continent data\n",
    "def get_cont(country_name):\n",
    "    try:\n",
    "        country_alpha2 = pycountry.countries.lookup(country_name).alpha_2\n",
    "        continent_code = pc.country_alpha2_to_continent_code(country_alpha2)\n",
    "        continent_name = pc.convert_continent_code_to_continent_name(continent_code)\n",
    "        return continent_name\n",
    "    except (LookupError, KeyError):\n",
    "        return None"
   ]
  },
  {
   "cell_type": "code",
   "execution_count": 641,
   "id": "cdb3225c-a047-4908-a8b3-748911181bcd",
   "metadata": {},
   "outputs": [],
   "source": [
    "# adding continent list as a column\n",
    "cont_list = []\n",
    "for country in new_indices['country']:\n",
    "    continent = get_cont(country)\n",
    "    cont_list.append(continent)\n"
   ]
  },
  {
   "cell_type": "code",
   "execution_count": 642,
   "id": "aadba6a7-2996-4423-b1b7-c6b22461ae05",
   "metadata": {},
   "outputs": [
    {
     "name": "stdout",
     "output_type": "stream",
     "text": [
      "          country       date  people_fully_vaccinated_per_hundred continent\n",
      "393   Afghanistan 2022-03-22                                11.10      Asia\n",
      "832       Albania 2022-03-24                                42.30    Europe\n",
      "1237      Algeria 2022-03-09                                13.70    Africa\n",
      "1650      Andorra 2022-03-13                                68.99    Europe\n",
      "2040       Angola 2022-03-25                                17.66    Africa\n"
     ]
    }
   ],
   "source": [
    "new_indices['continent'] = cont_list\n",
    "print(new_indices.head())"
   ]
  },
  {
   "cell_type": "markdown",
   "id": "6060ae4b-2872-4301-a5f1-d435ea1fd153",
   "metadata": {},
   "source": [
    "Now that we have the continent column, we get the average vaccination rates for them, and graph it using a bar graph."
   ]
  },
  {
   "cell_type": "code",
   "execution_count": 643,
   "id": "89e8bfe7-8c6c-43f6-bb78-95013acba596",
   "metadata": {},
   "outputs": [
    {
     "name": "stdout",
     "output_type": "stream",
     "text": [
      "       continent  people_fully_vaccinated_per_hundred\n",
      "0         Africa                                21.06\n",
      "1           Asia                                58.77\n",
      "2         Europe                                66.51\n",
      "3  North America                                54.92\n",
      "4        Oceania                                58.88\n",
      "5  South America                                64.87\n"
     ]
    }
   ],
   "source": [
    "# getting mean vaccination rates for all continents\n",
    "cont_vacc =new_indices.groupby('continent')['people_fully_vaccinated_per_hundred'].mean().reset_index()\n",
    "print(cont_vacc)"
   ]
  },
  {
   "cell_type": "code",
   "execution_count": 644,
   "id": "537be3e1-5181-4bce-be89-040556fe0331",
   "metadata": {},
   "outputs": [
    {
     "data": {
      "image/png": "[encoded data removed]",
      "text/plain": [
       "<Figure size 1000x600 with 1 Axes>"
      ]
     },
     "metadata": {},
     "output_type": "display_data"
    }
   ],
   "source": [
    "# graph creation\n",
    "sns.set_style(\"whitegrid\")\n",
    "plt.figure(figsize=(10,6))\n",
    "sns.barplot(data=cont_vacc,x='continent',y='people_fully_vaccinated_per_hundred',color = 'skyblue')\n",
    "plt.title('Average Vaccination Rate by Continent', fontsize = 16, fontweight = 'bold')\n",
    "plt.xlabel('Continent', fontsize = 14)\n",
    "plt.ylabel('Average Vaccination Rate', fontsize = 14)\n",
    "plt.show()"
   ]
  },
  {
   "cell_type": "markdown",
   "id": "a630b406-4968-43c0-88fd-1a6e77300096",
   "metadata": {},
   "source": [
    "Next, we try to work with the population trends. To begin, we integrate a population column in our data."
   ]
  },
  {
   "cell_type": "code",
   "execution_count": 645,
   "id": "57668987",
   "metadata": {},
   "outputs": [
    {
     "name": "stdout",
     "output_type": "stream",
     "text": [
      "                  Country Name         2022\n",
      "0                        Aruba    106445.00\n",
      "1  Africa Eastern and Southern 720859132.00\n",
      "2                  Afghanistan  41128771.00\n",
      "3   Africa Western and Central 490330870.00\n",
      "4                       Angola  35588987.00\n"
     ]
    }
   ],
   "source": [
    "# integrating population data\n",
    "pop = pd.read_csv('populations.csv', skiprows = 4)\n",
    "print(pop.head())\n",
    "poplist = []\n",
    "count1 = 0\n",
    "count2 = 0\n",
    "for country in new_indices['country']:\n",
    "    if country in pop['Country Name'].values:\n",
    "        index = pop[pop['Country Name'] == country].index[0]\n",
    "        poplist.append(pop.at[index, '2022'])\n",
    "    else:\n",
    "        poplist.append(float('nan'))"
   ]
  },
  {
   "cell_type": "code",
   "execution_count": 646,
   "id": "1adad55e-1dd3-4583-9238-71d1ea17181f",
   "metadata": {},
   "outputs": [
    {
     "data": {
      "text/plain": [
       "0"
      ]
     },
     "execution_count": 646,
     "metadata": {},
     "output_type": "execute_result"
    }
   ],
   "source": [
    "# setting column as poplist, cleaning data again\n",
    "new_indices['population'] = poplist\n",
    "cleaned_pop = new_indices[new_indices['population'].notna()]\n",
    "cleaned_pop['population'].isna().any().sum()"
   ]
  },
  {
   "cell_type": "markdown",
   "id": "5c56ade7-d296-4cd8-8604-c3eafb7c338f",
   "metadata": {},
   "source": [
    "We now create a scatterplot to observe trends between population distribution and vaccination rates, by dividing countries into sections of vaccination percentages. "
   ]
  },
  {
   "cell_type": "code",
   "execution_count": 647,
   "id": "5dca4e86-a4a2-4fc9-a433-8863444b317b",
   "metadata": {},
   "outputs": [
    {
     "data": {
      "text/html": [
       "<div>\n",
       "<style scoped>\n",
       "    .dataframe tbody tr th:only-of-type {\n",
       "        vertical-align: middle;\n",
       "    }\n",
       "\n",
       "    .dataframe tbody tr th {\n",
       "        vertical-align: top;\n",
       "    }\n",
       "\n",
       "    .dataframe thead th {\n",
       "        text-align: right;\n",
       "    }\n",
       "</style>\n",
       "<table border=\"1\" class=\"dataframe\">\n",
       "  <thead>\n",
       "    <tr style=\"text-align: right;\">\n",
       "      <th></th>\n",
       "      <th>country</th>\n",
       "      <th>date</th>\n",
       "      <th>people_fully_vaccinated_per_hundred</th>\n",
       "      <th>continent</th>\n",
       "      <th>population</th>\n",
       "      <th>Vacc Range</th>\n",
       "    </tr>\n",
       "  </thead>\n",
       "  <tbody>\n",
       "    <tr>\n",
       "      <th>393</th>\n",
       "      <td>Afghanistan</td>\n",
       "      <td>2022-03-22</td>\n",
       "      <td>11.10</td>\n",
       "      <td>Asia</td>\n",
       "      <td>41128771.00</td>\n",
       "      <td>0-20%</td>\n",
       "    </tr>\n",
       "    <tr>\n",
       "      <th>832</th>\n",
       "      <td>Albania</td>\n",
       "      <td>2022-03-24</td>\n",
       "      <td>42.30</td>\n",
       "      <td>Europe</td>\n",
       "      <td>2777689.00</td>\n",
       "      <td>40-60%</td>\n",
       "    </tr>\n",
       "    <tr>\n",
       "      <th>1237</th>\n",
       "      <td>Algeria</td>\n",
       "      <td>2022-03-09</td>\n",
       "      <td>13.70</td>\n",
       "      <td>Africa</td>\n",
       "      <td>44903225.00</td>\n",
       "      <td>0-20%</td>\n",
       "    </tr>\n",
       "    <tr>\n",
       "      <th>1650</th>\n",
       "      <td>Andorra</td>\n",
       "      <td>2022-03-13</td>\n",
       "      <td>68.99</td>\n",
       "      <td>Europe</td>\n",
       "      <td>79824.00</td>\n",
       "      <td>60-80%</td>\n",
       "    </tr>\n",
       "    <tr>\n",
       "      <th>2040</th>\n",
       "      <td>Angola</td>\n",
       "      <td>2022-03-25</td>\n",
       "      <td>17.66</td>\n",
       "      <td>Africa</td>\n",
       "      <td>35588987.00</td>\n",
       "      <td>0-20%</td>\n",
       "    </tr>\n",
       "  </tbody>\n",
       "</table>\n",
       "</div>"
      ],
      "text/plain": [
       "          country       date  people_fully_vaccinated_per_hundred continent  \\\n",
       "393   Afghanistan 2022-03-22                                11.10      Asia   \n",
       "832       Albania 2022-03-24                                42.30    Europe   \n",
       "1237      Algeria 2022-03-09                                13.70    Africa   \n",
       "1650      Andorra 2022-03-13                                68.99    Europe   \n",
       "2040       Angola 2022-03-25                                17.66    Africa   \n",
       "\n",
       "      population Vacc Range  \n",
       "393  41128771.00      0-20%  \n",
       "832   2777689.00     40-60%  \n",
       "1237 44903225.00      0-20%  \n",
       "1650    79824.00     60-80%  \n",
       "2040 35588987.00      0-20%  "
      ]
     },
     "execution_count": 647,
     "metadata": {},
     "output_type": "execute_result"
    }
   ],
   "source": [
    "# scatterplot showing trends between population distribution and vaccination rate\n",
    "bins = [0, 20, 40, 60, 80, 100]\n",
    "bin_labels = ['0-20%', '20-40%', '40-60%', '60-80%', '80-100%']\n",
    "cleaned_pop = pd.DataFrame(cleaned_pop)\n",
    "cleaned_pop['Vacc Range'] = pd.cut(cleaned_pop['people_fully_vaccinated_per_hundred'], bins=bins, labels=bin_labels)\n",
    "cleaned_pop.head()"
   ]
  },
  {
   "cell_type": "code",
   "execution_count": 648,
   "id": "2515aea6-2fbf-4f94-b4e2-e32171705438",
   "metadata": {},
   "outputs": [
    {
     "name": "stdout",
     "output_type": "stream",
     "text": [
      "  Vacc Range  Number of Countries\n",
      "0      0-20%                   39\n",
      "1     20-40%                   19\n",
      "2     40-60%                   39\n",
      "3     60-80%                   63\n",
      "4    80-100%                   18\n"
     ]
    }
   ],
   "source": [
    "grouped = cleaned_pop.groupby('Vacc Range')['country'].count().reset_index()\n",
    "grouped.columns = ['Vacc Range', 'Number of Countries']\n",
    "print(grouped)"
   ]
  },
  {
   "cell_type": "code",
   "execution_count": 649,
   "id": "6ea55187-8504-479b-b929-0a7d5e56cc2b",
   "metadata": {},
   "outputs": [
    {
     "data": {
      "image/png": "[encoded data removed]",
      "text/plain": [
       "<Figure size 800x600 with 1 Axes>"
      ]
     },
     "metadata": {},
     "output_type": "display_data"
    }
   ],
   "source": [
    "cleaned_pop['Vacc Range'] = cleaned_pop['Vacc Range'].astype(str)\n",
    "plt.figure(figsize=(8, 6))\n",
    "plt.scatter(cleaned_pop['people_fully_vaccinated_per_hundred'], cleaned_pop['population'], s=50, c='blue', alpha=0.7)\n",
    "plt.title('Population Distribution vs Vaccination Rate')\n",
    "plt.xlabel('Population')\n",
    "plt.ylabel('Vaccination Rate (%)')\n",
    "plt.xticks(rotation=45)\n",
    "plt.grid(True)\n",
    "plt.tight_layout()\n",
    "plt.show()"
   ]
  },
  {
   "cell_type": "markdown",
   "id": "69149944-5452-447c-9f84-48249dfca6ab",
   "metadata": {},
   "source": [
    "We now add the population data to our original, unaltered dataframe to work on our prediction model."
   ]
  },
  {
   "cell_type": "code",
   "execution_count": 650,
   "id": "3b9435aa-d718-48e8-8a3e-c7f0fe7ed985",
   "metadata": {},
   "outputs": [
    {
     "name": "stdout",
     "output_type": "stream",
     "text": [
      "        country iso_code       date  total_vaccinations  people_vaccinated  \\\n",
      "78  Afghanistan      AFG 2021-05-11           504502.00          448878.00   \n",
      "87  Afghanistan      AFG 2021-05-20           547901.00          470341.00   \n",
      "91  Afghanistan      AFG 2021-05-24           573277.00          476367.00   \n",
      "93  Afghanistan      AFG 2021-05-26           590454.00          479372.00   \n",
      "94  Afghanistan      AFG 2021-05-27           593313.00          479574.00   \n",
      "\n",
      "    people_fully_vaccinated  daily_vaccinations_raw  daily_vaccinations  \\\n",
      "78                 55624.00                     NaN            13921.00   \n",
      "87                 77560.00                     NaN             4822.00   \n",
      "91                 96910.00                     NaN             5692.00   \n",
      "93                111082.00                     NaN             6768.00   \n",
      "94                113739.00                 2859.00             6487.00   \n",
      "\n",
      "    total_vaccinations_per_hundred  people_vaccinated_per_hundred  \\\n",
      "78                            1.27                           1.13   \n",
      "87                            1.38                           1.18   \n",
      "91                            1.44                           1.20   \n",
      "93                            1.48                           1.20   \n",
      "94                            1.49                           1.20   \n",
      "\n",
      "    people_fully_vaccinated_per_hundred  daily_vaccinations_per_million  \\\n",
      "78                                 0.14                          349.00   \n",
      "87                                 0.19                          121.00   \n",
      "91                                 0.24                          143.00   \n",
      "93                                 0.28                          170.00   \n",
      "94                                 0.29                          163.00   \n",
      "\n",
      "                                             vaccines  \\\n",
      "78  Johnson&Johnson, Oxford/AstraZeneca, Pfizer/Bi...   \n",
      "87  Johnson&Johnson, Oxford/AstraZeneca, Pfizer/Bi...   \n",
      "91  Johnson&Johnson, Oxford/AstraZeneca, Pfizer/Bi...   \n",
      "93  Johnson&Johnson, Oxford/AstraZeneca, Pfizer/Bi...   \n",
      "94  Johnson&Johnson, Oxford/AstraZeneca, Pfizer/Bi...   \n",
      "\n",
      "                  source_name            source_website  population  \n",
      "78  World Health Organization  https://covid19.who.int/ 41128771.00  \n",
      "87  World Health Organization  https://covid19.who.int/ 41128771.00  \n",
      "91  World Health Organization  https://covid19.who.int/ 41128771.00  \n",
      "93  World Health Organization  https://covid19.who.int/ 41128771.00  \n",
      "94  World Health Organization  https://covid19.who.int/ 41128771.00  \n"
     ]
    }
   ],
   "source": [
    "# Adding population to data\n",
    "poplist2 = []\n",
    "count1 = 0\n",
    "count2 = 0\n",
    "for country in data['country']:\n",
    "    if country in pop['Country Name'].values:\n",
    "        index = pop[pop['Country Name'] == country].index[0]\n",
    "        poplist2.append(pop.at[index, '2022'])\n",
    "    else:\n",
    "        poplist2.append(float('nan'))\n",
    "data['population'] = poplist2\n",
    "print(data.head())"
   ]
  },
  {
   "cell_type": "markdown",
   "id": "9c74891c-b71d-4508-99c9-b12033447e82",
   "metadata": {},
   "source": [
    "We also add days since start of our vaccination count for each row of each country, another parameter to be used in our prediction model. "
   ]
  },
  {
   "cell_type": "code",
   "execution_count": 651,
   "id": "be3aa4a5-b40c-469a-ac16-dbeac9757fbf",
   "metadata": {},
   "outputs": [
    {
     "data": {
      "text/html": [
       "<div>\n",
       "<style scoped>\n",
       "    .dataframe tbody tr th:only-of-type {\n",
       "        vertical-align: middle;\n",
       "    }\n",
       "\n",
       "    .dataframe tbody tr th {\n",
       "        vertical-align: top;\n",
       "    }\n",
       "\n",
       "    .dataframe thead th {\n",
       "        text-align: right;\n",
       "    }\n",
       "</style>\n",
       "<table border=\"1\" class=\"dataframe\">\n",
       "  <thead>\n",
       "    <tr style=\"text-align: right;\">\n",
       "      <th></th>\n",
       "      <th>country</th>\n",
       "      <th>iso_code</th>\n",
       "      <th>date</th>\n",
       "      <th>total_vaccinations</th>\n",
       "      <th>people_vaccinated</th>\n",
       "      <th>people_fully_vaccinated</th>\n",
       "      <th>daily_vaccinations_raw</th>\n",
       "      <th>daily_vaccinations</th>\n",
       "      <th>total_vaccinations_per_hundred</th>\n",
       "      <th>people_vaccinated_per_hundred</th>\n",
       "      <th>people_fully_vaccinated_per_hundred</th>\n",
       "      <th>daily_vaccinations_per_million</th>\n",
       "      <th>vaccines</th>\n",
       "      <th>source_name</th>\n",
       "      <th>source_website</th>\n",
       "      <th>population</th>\n",
       "      <th>Start_Date</th>\n",
       "      <th>Days Since Start</th>\n",
       "    </tr>\n",
       "  </thead>\n",
       "  <tbody>\n",
       "    <tr>\n",
       "      <th>78</th>\n",
       "      <td>Afghanistan</td>\n",
       "      <td>AFG</td>\n",
       "      <td>2021-05-11</td>\n",
       "      <td>504502.00</td>\n",
       "      <td>448878.00</td>\n",
       "      <td>55624.00</td>\n",
       "      <td>NaN</td>\n",
       "      <td>13921.00</td>\n",
       "      <td>1.27</td>\n",
       "      <td>1.13</td>\n",
       "      <td>0.14</td>\n",
       "      <td>349.00</td>\n",
       "      <td>Johnson&amp;Johnson, Oxford/AstraZeneca, Pfizer/Bi...</td>\n",
       "      <td>World Health Organization</td>\n",
       "      <td>https://covid19.who.int/</td>\n",
       "      <td>41128771.00</td>\n",
       "      <td>2021-05-11</td>\n",
       "      <td>0</td>\n",
       "    </tr>\n",
       "    <tr>\n",
       "      <th>87</th>\n",
       "      <td>Afghanistan</td>\n",
       "      <td>AFG</td>\n",
       "      <td>2021-05-20</td>\n",
       "      <td>547901.00</td>\n",
       "      <td>470341.00</td>\n",
       "      <td>77560.00</td>\n",
       "      <td>NaN</td>\n",
       "      <td>4822.00</td>\n",
       "      <td>1.38</td>\n",
       "      <td>1.18</td>\n",
       "      <td>0.19</td>\n",
       "      <td>121.00</td>\n",
       "      <td>Johnson&amp;Johnson, Oxford/AstraZeneca, Pfizer/Bi...</td>\n",
       "      <td>World Health Organization</td>\n",
       "      <td>https://covid19.who.int/</td>\n",
       "      <td>41128771.00</td>\n",
       "      <td>2021-05-11</td>\n",
       "      <td>9</td>\n",
       "    </tr>\n",
       "    <tr>\n",
       "      <th>91</th>\n",
       "      <td>Afghanistan</td>\n",
       "      <td>AFG</td>\n",
       "      <td>2021-05-24</td>\n",
       "      <td>573277.00</td>\n",
       "      <td>476367.00</td>\n",
       "      <td>96910.00</td>\n",
       "      <td>NaN</td>\n",
       "      <td>5692.00</td>\n",
       "      <td>1.44</td>\n",
       "      <td>1.20</td>\n",
       "      <td>0.24</td>\n",
       "      <td>143.00</td>\n",
       "      <td>Johnson&amp;Johnson, Oxford/AstraZeneca, Pfizer/Bi...</td>\n",
       "      <td>World Health Organization</td>\n",
       "      <td>https://covid19.who.int/</td>\n",
       "      <td>41128771.00</td>\n",
       "      <td>2021-05-11</td>\n",
       "      <td>13</td>\n",
       "    </tr>\n",
       "    <tr>\n",
       "      <th>93</th>\n",
       "      <td>Afghanistan</td>\n",
       "      <td>AFG</td>\n",
       "      <td>2021-05-26</td>\n",
       "      <td>590454.00</td>\n",
       "      <td>479372.00</td>\n",
       "      <td>111082.00</td>\n",
       "      <td>NaN</td>\n",
       "      <td>6768.00</td>\n",
       "      <td>1.48</td>\n",
       "      <td>1.20</td>\n",
       "      <td>0.28</td>\n",
       "      <td>170.00</td>\n",
       "      <td>Johnson&amp;Johnson, Oxford/AstraZeneca, Pfizer/Bi...</td>\n",
       "      <td>World Health Organization</td>\n",
       "      <td>https://covid19.who.int/</td>\n",
       "      <td>41128771.00</td>\n",
       "      <td>2021-05-11</td>\n",
       "      <td>15</td>\n",
       "    </tr>\n",
       "    <tr>\n",
       "      <th>94</th>\n",
       "      <td>Afghanistan</td>\n",
       "      <td>AFG</td>\n",
       "      <td>2021-05-27</td>\n",
       "      <td>593313.00</td>\n",
       "      <td>479574.00</td>\n",
       "      <td>113739.00</td>\n",
       "      <td>2859.00</td>\n",
       "      <td>6487.00</td>\n",
       "      <td>1.49</td>\n",
       "      <td>1.20</td>\n",
       "      <td>0.29</td>\n",
       "      <td>163.00</td>\n",
       "      <td>Johnson&amp;Johnson, Oxford/AstraZeneca, Pfizer/Bi...</td>\n",
       "      <td>World Health Organization</td>\n",
       "      <td>https://covid19.who.int/</td>\n",
       "      <td>41128771.00</td>\n",
       "      <td>2021-05-11</td>\n",
       "      <td>16</td>\n",
       "    </tr>\n",
       "  </tbody>\n",
       "</table>\n",
       "</div>"
      ],
      "text/plain": [
       "        country iso_code       date  total_vaccinations  people_vaccinated  \\\n",
       "78  Afghanistan      AFG 2021-05-11           504502.00          448878.00   \n",
       "87  Afghanistan      AFG 2021-05-20           547901.00          470341.00   \n",
       "91  Afghanistan      AFG 2021-05-24           573277.00          476367.00   \n",
       "93  Afghanistan      AFG 2021-05-26           590454.00          479372.00   \n",
       "94  Afghanistan      AFG 2021-05-27           593313.00          479574.00   \n",
       "\n",
       "    people_fully_vaccinated  daily_vaccinations_raw  daily_vaccinations  \\\n",
       "78                 55624.00                     NaN            13921.00   \n",
       "87                 77560.00                     NaN             4822.00   \n",
       "91                 96910.00                     NaN             5692.00   \n",
       "93                111082.00                     NaN             6768.00   \n",
       "94                113739.00                 2859.00             6487.00   \n",
       "\n",
       "    total_vaccinations_per_hundred  people_vaccinated_per_hundred  \\\n",
       "78                            1.27                           1.13   \n",
       "87                            1.38                           1.18   \n",
       "91                            1.44                           1.20   \n",
       "93                            1.48                           1.20   \n",
       "94                            1.49                           1.20   \n",
       "\n",
       "    people_fully_vaccinated_per_hundred  daily_vaccinations_per_million  \\\n",
       "78                                 0.14                          349.00   \n",
       "87                                 0.19                          121.00   \n",
       "91                                 0.24                          143.00   \n",
       "93                                 0.28                          170.00   \n",
       "94                                 0.29                          163.00   \n",
       "\n",
       "                                             vaccines  \\\n",
       "78  Johnson&Johnson, Oxford/AstraZeneca, Pfizer/Bi...   \n",
       "87  Johnson&Johnson, Oxford/AstraZeneca, Pfizer/Bi...   \n",
       "91  Johnson&Johnson, Oxford/AstraZeneca, Pfizer/Bi...   \n",
       "93  Johnson&Johnson, Oxford/AstraZeneca, Pfizer/Bi...   \n",
       "94  Johnson&Johnson, Oxford/AstraZeneca, Pfizer/Bi...   \n",
       "\n",
       "                  source_name            source_website  population  \\\n",
       "78  World Health Organization  https://covid19.who.int/ 41128771.00   \n",
       "87  World Health Organization  https://covid19.who.int/ 41128771.00   \n",
       "91  World Health Organization  https://covid19.who.int/ 41128771.00   \n",
       "93  World Health Organization  https://covid19.who.int/ 41128771.00   \n",
       "94  World Health Organization  https://covid19.who.int/ 41128771.00   \n",
       "\n",
       "   Start_Date  Days Since Start  \n",
       "78 2021-05-11                 0  \n",
       "87 2021-05-11                 9  \n",
       "91 2021-05-11                13  \n",
       "93 2021-05-11                15  \n",
       "94 2021-05-11                16  "
      ]
     },
     "execution_count": 651,
     "metadata": {},
     "output_type": "execute_result"
    }
   ],
   "source": [
    "# Adding column for number of days since start\n",
    "data.sort_values(['country', 'date'], inplace=True)\n",
    "data['Start_Date'] = data.groupby('country')['date'].transform('min')\n",
    "data['Days Since Start'] = (data['date'] - data['Start_Date']).dt.days\n",
    "data.head()"
   ]
  },
  {
   "cell_type": "markdown",
   "id": "c062c504-a38a-4631-ac77-464bddf243f9",
   "metadata": {},
   "source": [
    "Next, we work on the prediction model. We start with forward filling missing data. Then we add a column for the percentage of people fully vaccinated. We create our features list and training, testing datasets. Our target variable here would be the remaining vaccination percentage to reach herd immunity.  "
   ]
  },
  {
   "cell_type": "markdown",
   "id": "13679fbb-a5b7-46ef-859a-d091bbd0056a",
   "metadata": {},
   "source": [
    "We try to fit our model into a linear regression model, and use it to make predictions on the test data. "
   ]
  },
  {
   "cell_type": "code",
   "execution_count": 658,
   "id": "e706da90-be38-4b2f-8fb6-39ba7116eee0",
   "metadata": {},
   "outputs": [
    {
     "name": "stdout",
     "output_type": "stream",
     "text": [
      "        country iso_code       date  total_vaccinations  people_vaccinated  \\\n",
      "78  Afghanistan      AFG 2021-05-11           504502.00          448878.00   \n",
      "87  Afghanistan      AFG 2021-05-20           547901.00          470341.00   \n",
      "91  Afghanistan      AFG 2021-05-24           573277.00          476367.00   \n",
      "93  Afghanistan      AFG 2021-05-26           590454.00          479372.00   \n",
      "94  Afghanistan      AFG 2021-05-27           593313.00          479574.00   \n",
      "\n",
      "    people_fully_vaccinated  daily_vaccinations_raw  daily_vaccinations  \\\n",
      "78                 55624.00                     NaN            13921.00   \n",
      "87                 77560.00                     NaN             4822.00   \n",
      "91                 96910.00                     NaN             5692.00   \n",
      "93                111082.00                     NaN             6768.00   \n",
      "94                113739.00                 2859.00             6487.00   \n",
      "\n",
      "    total_vaccinations_per_hundred  people_vaccinated_per_hundred  ...  \\\n",
      "78                            1.27                           1.13  ...   \n",
      "87                            1.38                           1.18  ...   \n",
      "91                            1.44                           1.20  ...   \n",
      "93                            1.48                           1.20  ...   \n",
      "94                            1.49                           1.20  ...   \n",
      "\n",
      "                  source_name            source_website  population  \\\n",
      "78  World Health Organization  https://covid19.who.int/ 41128771.00   \n",
      "87  World Health Organization  https://covid19.who.int/ 41128771.00   \n",
      "91  World Health Organization  https://covid19.who.int/ 41128771.00   \n",
      "93  World Health Organization  https://covid19.who.int/ 41128771.00   \n",
      "94  World Health Organization  https://covid19.who.int/ 41128771.00   \n",
      "\n",
      "   Start_Date Days Since Start  Percentage Fully Vaccinated    vacc_rem  \\\n",
      "78 2021-05-11                0                         0.00 28734515.70   \n",
      "87 2021-05-11                9                         0.00 28712579.70   \n",
      "91 2021-05-11               13                         0.00 28693229.70   \n",
      "93 2021-05-11               15                         0.00 28679057.70   \n",
      "94 2021-05-11               16                         0.00 28676400.70   \n",
      "\n",
      "        Target  Predicted_Days_to_Herd_Immunity  \\\n",
      "78 28734515.70                      28734515.70   \n",
      "87 28712579.70                      28712579.70   \n",
      "91 28693229.70                      28693229.70   \n",
      "93 28679057.70                      28679057.70   \n",
      "94 28676400.70                      28676400.70   \n",
      "\n",
      "    Predicted_Days_to_Herd_Immunity_RF  \n",
      "78                         28742233.37  \n",
      "87                         28709241.36  \n",
      "91                         28690884.39  \n",
      "93                         28680176.43  \n",
      "94                         28677273.34  \n",
      "\n",
      "[5 rows x 23 columns]\n"
     ]
    }
   ],
   "source": [
    "data = data.interpolate(method='ffill')\n",
    "data['Percentage Fully Vaccinated'] = (data['people_fully_vaccinated_per_hundred'] / data['population'])\n",
    "monthly_data = data.resample('M', on='date').mean()\n",
    "data['vacc_rem'] = (0.7 * data['population'] - data['people_fully_vaccinated'])\n",
    "features = ['daily_vaccinations','population','vacc_rem']\n",
    "data['Target'] = (0.7 * data['population'] - data['people_fully_vaccinated'])\n",
    "data.dropna(subset=['Target'], inplace=True)\n",
    "X_train, X_test, y_train, y_test = train_test_split(data[features], data['Target'], test_size=0.2, random_state=42)\n",
    "model = LinearRegression()\n",
    "model.fit(X_train, y_train)\n",
    "y_pred = model.predict(X_test)\n",
    "print(data.head())"
   ]
  },
  {
   "cell_type": "markdown",
   "id": "75a98876-da1e-46c6-a853-b5afb73af3ab",
   "metadata": {},
   "source": [
    "Now, let's try to visualize the predictions we just made. We do this by plotting the actual vs expected days to reach herd immunity using our model. The reference line in red (y=x), represents the ideal scenario. "
   ]
  },
  {
   "cell_type": "code",
   "execution_count": 659,
   "id": "d0197cce-2ae8-4900-9dd8-8240b6e8c86c",
   "metadata": {},
   "outputs": [
    {
     "data": {
      "image/png": "[encoded data removed]",
      "text/plain": [
       "<Figure size 640x480 with 1 Axes>"
      ]
     },
     "metadata": {},
     "output_type": "display_data"
    }
   ],
   "source": [
    "plt.scatter(y_test, y_pred)\n",
    "plt.xlabel('Actual')\n",
    "plt.ylabel('Predicted')\n",
    "plt.title('Actual vs Predicted Days to Reach Herd Immunity')\n",
    "plt.plot([min(y_test), max(y_test)], [min(y_test), max(y_test)], color='red')\n",
    "plt.show()"
   ]
  },
  {
   "cell_type": "code",
   "execution_count": 660,
   "id": "ed11d153-827a-4b71-8352-9b336b706b08",
   "metadata": {},
   "outputs": [
    {
     "name": "stdout",
     "output_type": "stream",
     "text": [
      "                               country  Predicted_Days_to_Herd_Immunity\n",
      "393                        Afghanistan                      24370012.70\n",
      "832                            Albania                        729183.30\n",
      "1237                           Algeria                      25321545.50\n",
      "1650                           Andorra                          2509.80\n",
      "2040                            Angola                      18918498.90\n",
      "2453                          Anguilla                      24902666.90\n",
      "2847               Antigua and Barbuda                          4084.10\n",
      "3201                         Argentina                         16042.00\n",
      "3651                           Armenia                        997550.30\n",
      "3833                             Aruba                             0.50\n",
      "4288                         Australia                         11450.00\n",
      "4777                           Austria                         45961.70\n",
      "5298                        Azerbaijan                       2277953.20\n",
      "5676                           Bahamas                       6943140.20\n",
      "5882                           Bahrain                           728.10\n",
      "6560                        Bangladesh                      12117723.40\n",
      "6967                          Barbados                         46075.50\n",
      "7415                           Belarus                        894435.70\n",
      "7661                           Belgium                         11791.80\n",
      "8260                            Belize                         74534.40\n",
      "8575                             Benin                       6916070.80\n",
      "8861                           Bermuda                           734.40\n",
      "9228                            Bhutan                         29583.50\n",
      "9787                           Bolivia                       2809021.00\n",
      "9933   Bonaire Sint Eustatius and Saba                       8540141.00\n",
      "10286           Bosnia and Herzegovina                       1417388.20\n",
      "10648                         Botswana                        548666.20\n",
      "11032                           Brazil                         36965.60\n",
      "11394           British Virgin Islands                          4267.50\n",
      "11505                           Brunei                           756.50\n",
      "12201                         Bulgaria                       2475658.90\n",
      "12493                     Burkina Faso                      14683088.40\n",
      "12644                          Burundi                       9012797.20\n",
      "12889                         Cambodia                         13128.40\n",
      "13402                         Cameroon                      18491511.20\n",
      "13698                           Canada                          6852.40\n",
      "14246                       Cape Verde                      26944149.40\n",
      "14466                   Cayman Islands                           148.20\n",
      "15019         Central African Republic                       3007455.80\n",
      "15301                             Chad                      12253082.50\n"
     ]
    }
   ],
   "source": [
    "data['Predicted_Days_to_Herd_Immunity'] = model.predict(data[features])\n",
    "columns_to_check = ['Predicted_Days_to_Herd_Immunity']\n",
    "data2 = data[(data[columns_to_check] >= 0).all(axis=1)] \n",
    "country_predictions = data2[['country', 'Predicted_Days_to_Herd_Immunity']]\n",
    "ind_count = country_predictions.groupby('country')['Predicted_Days_to_Herd_Immunity'].idxmin()\n",
    "country_pred = country_predictions.loc[ind_count]\n",
    "print(country_pred.head(40))"
   ]
  },
  {
   "cell_type": "markdown",
   "id": "0e26e16b-492e-4824-a851-e9375384f097",
   "metadata": {},
   "source": [
    "Clearly, our prediction model is flawed. It is very far off from the ideal situation, and so we should try to use some other model. Linear regression is not a good fit, most likely because it is not catching the underlying patterns in our test data. "
   ]
  },
  {
   "cell_type": "markdown",
   "id": "34b4165a-4b61-4a47-af80-705b5db52c0a",
   "metadata": {},
   "source": [
    "So now, we try to find another model that more closely fits our requirements. The Random Forest Aggressor would be a good choice in this case due to non linearity of the data and complex models. We repeat the same process as above for this model. "
   ]
  },
  {
   "cell_type": "code",
   "execution_count": 661,
   "id": "917c1909-fc73-4db9-84e0-3256a95ffd47",
   "metadata": {},
   "outputs": [
    {
     "name": "stdout",
     "output_type": "stream",
     "text": [
      "Random Forest Model Performance:\n",
      "Mean Squared Error (MSE): 212629068148.19937\n",
      "R-squared (R2): 0.9999647667088503\n"
     ]
    },
    {
     "data": {
      "image/png": "[encoded data removed]",
      "text/plain": [
       "<Figure size 800x600 with 1 Axes>"
      ]
     },
     "metadata": {},
     "output_type": "display_data"
    }
   ],
   "source": [
    "# Random Forest Aggressor\n",
    "model_rf = RandomForestRegressor(random_state=30)\n",
    "model_rf.fit(X_train, y_train)\n",
    "y_pred_rf = model_rf.predict(X_test)\n",
    "mse_rf = mean_squared_error(y_test, y_pred_rf)\n",
    "r2_rf = r2_score(y_test, y_pred_rf)\n",
    "print(f\"Random Forest Model Performance:\")\n",
    "print(f\"Mean Squared Error (MSE): {mse_rf}\")\n",
    "print(f\"R-squared (R2): {r2_rf}\")\n",
    "plt.figure(figsize=(8, 6))\n",
    "plt.scatter(y_test, y_pred_rf, color='blue')\n",
    "plt.plot([min(y_test), max(y_test)], [min(y_test), max(y_test)], color='red')  # y=x line\n",
    "plt.xlabel('Actual')\n",
    "plt.ylabel('Predicted')\n",
    "plt.title('Actual vs Predicted Days to Reach Herd Immunity (Random Forest)')\n",
    "plt.grid(True)\n",
    "plt.show()"
   ]
  },
  {
   "cell_type": "code",
   "execution_count": 662,
   "id": "305bd453-c313-40e3-8485-c6ca05eb438a",
   "metadata": {},
   "outputs": [
    {
     "name": "stdout",
     "output_type": "stream",
     "text": [
      "                               country  Predicted_Days_to_Herd_Immunity_RF\n",
      "393                        Afghanistan                         24369066.49\n",
      "832                            Albania                           729257.13\n",
      "1237                           Algeria                         25323222.96\n",
      "1650                           Andorra                             2512.70\n",
      "2040                            Angola                         18916192.96\n",
      "2455                          Anguilla                         24902683.83\n",
      "2847               Antigua and Barbuda                             4078.63\n",
      "3201                         Argentina                            16029.73\n",
      "3651                           Armenia                           997347.27\n",
      "3833                             Aruba                                2.78\n",
      "4288                         Australia                            11448.88\n",
      "4777                           Austria                            45935.35\n",
      "5298                        Azerbaijan                          2277906.20\n",
      "5676                           Bahamas                          6943236.64\n",
      "5882                           Bahrain                              742.11\n",
      "6560                        Bangladesh                         12118161.18\n",
      "6967                          Barbados                            46091.98\n",
      "7415                           Belarus                           894250.25\n",
      "7661                           Belgium                            11803.69\n",
      "8260                            Belize                            74486.09\n",
      "8575                             Benin                          6915791.78\n",
      "8861                           Bermuda                              738.99\n",
      "9228                            Bhutan                            29647.55\n",
      "9787                           Bolivia                          2809153.57\n",
      "9933   Bonaire Sint Eustatius and Saba                          8540110.61\n",
      "10286           Bosnia and Herzegovina                          1417396.70\n",
      "10648                         Botswana                           548739.97\n",
      "11032                           Brazil                            36968.32\n",
      "11394           British Virgin Islands                             4288.54\n",
      "11505                           Brunei                              769.75\n",
      "12201                         Bulgaria                          2475604.21\n",
      "12493                     Burkina Faso                         14684105.73\n",
      "12644                          Burundi                          9013071.76\n",
      "12889                         Cambodia                            13119.81\n",
      "13402                         Cameroon                         18520294.62\n",
      "13698                           Canada                             6851.52\n",
      "14246                       Cape Verde                         26944228.39\n",
      "14466                   Cayman Islands                              159.91\n",
      "15019         Central African Republic                          3007561.99\n",
      "15301                             Chad                         12253416.64\n"
     ]
    }
   ],
   "source": [
    "data['Predicted_Days_to_Herd_Immunity_RF'] = model_rf.predict(data[features])\n",
    "columns_to_check2 = ['Predicted_Days_to_Herd_Immunity_RF']\n",
    "data1 = data[(data[columns_to_check] >= 0).all(axis=1)] \n",
    "country_predictions_RF = data1[['country', 'Predicted_Days_to_Herd_Immunity_RF']]\n",
    "ind_count2 = country_predictions_RF.groupby('country')['Predicted_Days_to_Herd_Immunity_RF'].idxmin()\n",
    "country_pred_RF = country_predictions_RF.loc[ind_count2]\n",
    "print(country_pred_RF.head(40))"
   ]
  },
  {
   "cell_type": "markdown",
   "id": "367f183a-60fe-46a4-8f08-1bbd7f887b02",
   "metadata": {},
   "source": [
    "We observe that this model is a good fit, as the line of best fit closely matches our predictions. "
   ]
  },
  {
   "cell_type": "markdown",
   "id": "cb689a23-4c7f-4666-a9ed-6509c0dedbf9",
   "metadata": {},
   "source": [
    "Now, we use our model to predict the number of days to reach herd immunity for the countries in our dataset. We also get rid of countries with negative predicted days, because that means we have already reached herd immunity. "
   ]
  },
  {
   "cell_type": "code",
   "execution_count": null,
   "id": "d0d6740e-9020-414b-8f1d-025d61c95f81",
   "metadata": {},
   "outputs": [],
   "source": []
  },
  {
   "cell_type": "code",
   "execution_count": null,
   "id": "c5b19837-e687-45ff-8c53-249a7907e9f1",
   "metadata": {},
   "outputs": [],
   "source": []
  },
  {
   "cell_type": "code",
   "execution_count": 381,
   "id": "e80bab8d-5044-4344-a6a6-078b5583e233",
   "metadata": {},
   "outputs": [],
   "source": [
    "#Summary\n",
    "\n"
   ]
  },
  {
   "cell_type": "code",
   "execution_count": null,
   "id": "3cb4d8da-56aa-48e8-89bf-f7c5ce18f530",
   "metadata": {},
   "outputs": [],
   "source": []
  }
 ],
 "metadata": {
  "kernelspec": {
   "display_name": "Python 3 (ipykernel)",
   "language": "python",
   "name": "python3"
  },
  "language_info": {
   "codemirror_mode": {
    "name": "ipython",
    "version": 3
   },
   "file_extension": ".py",
   "mimetype": "text/x-python",
   "name": "python",
   "nbconvert_exporter": "python",
   "pygments_lexer": "ipython3",
   "version": "3.9.13"
  }
 },
 "nbformat": 4,
 "nbformat_minor": 5
}
